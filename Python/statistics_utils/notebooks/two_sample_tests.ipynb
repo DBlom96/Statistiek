{
 "cells": [
  {
   "cell_type": "code",
   "execution_count": null,
   "id": "2bac83ac-52b1-434d-ab46-df55e9159826",
   "metadata": {},
   "outputs": [],
   "source": []
  }
 ],
 "metadata": {
  "kernelspec": {
   "display_name": "Python 3 (ipykernel)",
   "language": "python",
   "name": "python3"
  },
  "language_info": {
   "codemirror_mode": {
    "name": "ipython",
    "version": 3
   },
   "file_extension": ".py",
   "mimetype": "text/x-python",
   "name": "python",
   "nbconvert_exporter": "python",
   "pygments_lexer": "ipython3",
   "version": "3.12.3"
  }
 },
 "nbformat": 4,
 "nbformat_minor": 5
}
