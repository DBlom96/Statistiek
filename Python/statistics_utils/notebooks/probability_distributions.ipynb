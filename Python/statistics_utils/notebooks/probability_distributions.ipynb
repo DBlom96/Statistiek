{
 "cells": [
  {
   "cell_type": "code",
   "execution_count": 3,
   "id": "f1c3c997-d86c-4ff5-a4e8-78f59552f9cf",
   "metadata": {},
   "outputs": [],
   "source": [
    "import numpy as np\n",
    "import matplotlib.pyplot as plt\n",
    "from scipy.stats import binom\n",
    "from math import sqrt"
   ]
  },
  {
   "cell_type": "markdown",
   "id": "4b432608-c764-41be-bf4b-01d872711c54",
   "metadata": {},
   "source": [
    "# Discrete kansvariabelen"
   ]
  },
  {
   "cell_type": "code",
   "execution_count": 13,
   "id": "2ec7acd1-9948-4a1b-a36a-dbefdc9e4cf2",
   "metadata": {},
   "outputs": [
    {
     "name": "stdout",
     "output_type": "stream",
     "text": [
      "Verwachtingswaarde: $E[X] = 3.3100$\n",
      "Variantie: $Var(X)=3.0139$\n",
      "Standaardafwijking: $\\sigma=1.7361$\n",
      "P(X = 2) = 0.170\n",
      "P(X <= 2) = 0.340\n",
      "P(X >= 2) = 0.830\n"
     ]
    },
    {
     "data": {
      "image/png": "[encoded data removed]",
      "text/plain": [
       "<Figure size 640x480 with 1 Axes>"
      ]
     },
     "metadata": {},
     "output_type": "display_data"
    }
   ],
   "source": [
    "def draw_stem_plot(outcomes, probabilities, filename=\"test.pdf\"):\n",
    "    # Check if the probabilities add up to 1\n",
    "    if sum(probabilities) != 1:\n",
    "        raise ValueError(\"The probabilities should add up to 1\")\n",
    "\n",
    "    plt.stem(outcomes, probabilities, basefmt=\" \")\n",
    "    plt.xlabel(\"Uitkomst $x$\")\n",
    "    plt.ylabel(\"Kansfunctie $P(X = x)$\")\n",
    "    plt.title(\"Naalddiagram van discrete kansvariabele\")\n",
    "    plt.savefig(filename)\n",
    "\n",
    "def compute_expected_value(probability_dict):\n",
    "    return sum(k * v for (k, v) in probability_dict.items())\n",
    "\n",
    "def compute_variance(probability_dict):\n",
    "    mean = compute_expected_value(probability_dict)\n",
    "    return sum((k - mean) ** 2 * v for (k, v) in probability_dict.items())\n",
    "\n",
    "def compute_standard_deviation(probability_dict):\n",
    "    variance = compute_variance(probability_dict)\n",
    "    return sqrt(variance)\n",
    "\n",
    "# --- Extra kansberekeningen ---\n",
    "def P_equals(probability_dict, k):\n",
    "    \"\"\"Kans dat X exact k is\"\"\"\n",
    "    if k in probability_dict:\n",
    "        return probability_dict[k]\n",
    "    else:\n",
    "        return 0.0\n",
    "\n",
    "def P_leq(probability_dict, k):\n",
    "    \"\"\"Kans dat X <= k\"\"\"\n",
    "    prob = 0\n",
    "    for key in probability_dict:\n",
    "        if key <= k:\n",
    "            prob += probability_dict[key]\n",
    "    return prob\n",
    "\n",
    "def P_geq(probability_dict, k):\n",
    "    \"\"\"Kans dat X >= k\"\"\"\n",
    "    prob = 0\n",
    "    for key in probability_dict:\n",
    "        if key >= k:\n",
    "            prob += probability_dict[key]\n",
    "    return prob\n",
    "\n",
    "# Voorbeeld: aantal bloedunits per soldaat\n",
    "outcomes = [0, 1, 2, 3, 4, 5, 6]\n",
    "probabilities = [0.06, 0.11, 0.17, 0.18, 0.22, 0.12, 0.14]\n",
    "probability_dict = {k: v for (k, v) in zip(outcomes, probabilities)}\n",
    "\n",
    "\n",
    "# --- Verwachtingswaarde en standaardafwijking ---\n",
    "expected_value = compute_expected_value(probability_dict)\n",
    "variance = compute_variance(probability_dict)\n",
    "std_dev = compute_standard_deviation(probability_dict)\n",
    "\n",
    "print(f\"Verwachtingswaarde: $E[X] = {expected_value:.4f}$\")\n",
    "print(f\"Variantie: $Var(X)={variance:.4f}$\")\n",
    "print(f\"Standaardafwijking: $\\\\sigma={std_dev:.4f}$\")\n",
    "\n",
    "k = 2\n",
    "print(f\"P(X = {k}) = {P_equals(probability_dict, k):.3f}\")\n",
    "print(f\"P(X <= {k}) = {P_leq(probability_dict, k):.3f}\")\n",
    "print(f\"P(X >= {k}) = {P_geq(probability_dict, k):.3f}\")\n",
    "\n",
    "draw_stem_plot(outcomes, probabilities, filename=\"exam20251017_1a.pdf\")"
   ]
  },
  {
   "cell_type": "code",
   "execution_count": null,
   "id": "f1fdbbe9-b696-4ad1-920e-3bc16f3a9b90",
   "metadata": {},
   "outputs": [],
   "source": []
  }
 ],
 "metadata": {
  "kernelspec": {
   "display_name": "Python [conda env:base] *",
   "language": "python",
   "name": "conda-base-py"
  },
  "language_info": {
   "codemirror_mode": {
    "name": "ipython",
    "version": 3
   },
   "file_extension": ".py",
   "mimetype": "text/x-python",
   "name": "python",
   "nbconvert_exporter": "python",
   "pygments_lexer": "ipython3",
   "version": "3.12.3"
  }
 },
 "nbformat": 4,
 "nbformat_minor": 5
}
