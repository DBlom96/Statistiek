{
 "cells": [
  {
   "cell_type": "code",
   "execution_count": 1,
   "id": "8a3d5380-eff3-4cea-9abb-96835121cdac",
   "metadata": {},
   "outputs": [],
   "source": [
    "import sys\n",
    "sys.path.append(\"..\")\n",
    "\n",
    "from utils import *"
   ]
  },
  {
   "cell_type": "markdown",
   "id": "63c3fdd2-fcd5-4da9-8056-c1e1dbc1832b",
   "metadata": {},
   "source": [
    "# Schatten en betrouwbaarheid"
   ]
  },
  {
   "cell_type": "markdown",
   "id": "728d4e97-a5e6-4132-b696-3f48c2380beb",
   "metadata": {},
   "source": [
    "## Puntschattingen"
   ]
  },
  {
   "cell_type": "code",
   "execution_count": 4,
   "id": "5bf8be9f-0328-4641-8be3-9ca7fd6d3bce",
   "metadata": {},
   "outputs": [],
   "source": [
    "def sample_mean(data):\n",
    "    \"\"\"Puntschatting van het populatiegemiddelde (mu) via steekproefgemiddelde.\"\"\"\n",
    "    return np.mean(data)\n",
    "\n",
    "def sample_variance(data, ddof=1):\n",
    "    \"\"\"\n",
    "    Puntschatting van de populatievariantie (σ²).\n",
    "    ddof=1 voor steekproefvariantie (standaard).\n",
    "    \"\"\"\n",
    "    return np.var(data, ddof=ddof)\n",
    "\n",
    "def sample_std(data, ddof=1):\n",
    "    return np.sqrt( sample_variance(data, ddof) )\n",
    "\n",
    "def proportion_estimate(successes, num_trials):\n",
    "    \"\"\"\n",
    "    Puntschatting van een populatieproportie (p̂).\n",
    "    - Bij binaire data: successes = aantal successen, n = steekproefgrootte.\n",
    "    - Bij array input: successes = lijst/array met 0/1 waarden.\n",
    "    \"\"\"\n",
    "    if isinstance(successes, (list, np.ndarray, pd.Series)) and num_trials is None:\n",
    "        successes = np.sum(successes)\n",
    "        num_trials = len(successes)\n",
    "    elif num_trials is None:\n",
    "        raise ValueError(\"n is verplicht als je alleen het aantal successen geeft.\")\n",
    "    \n",
    "    return successes / num_trials"
   ]
  },
  {
   "cell_type": "markdown",
   "id": "8c1038d9-ac7f-425f-a771-a597f998f805",
   "metadata": {},
   "source": [
    "## Betrouwbaarheidsintervallen"
   ]
  },
  {
   "cell_type": "code",
   "execution_count": 26,
   "id": "a4358948-90c1-4d5e-bd21-1002190fd411",
   "metadata": {},
   "outputs": [
    {
     "name": "stdout",
     "output_type": "stream",
     "text": [
      "\n",
      "                Omdat $\\sigma$ onbekend is en de steekproefgrootte $n = 13 < 30$ is, moeten we gebruik maken van de $t$-verdeling.\n",
      "                De $t$-waarde die hoort bij \\SI{94}{\\percent} betrouwbaarheid, oftewel $\\alpha = 0.06$, is (in het geval van tweezijdige intervallen) gelijk aan\n",
      "                \\[\n",
      "                    t = \\invt(\\text{opp}=1-\\frac{\\alpha}{2}; \\text{df}=n-1) = \\invt(\\text{opp}=0.97; \\text{df}=12) \\approx 2.0764.\n",
      "                \\]\n",
      "                Het \\SI{94}{\\percent}-betrouwbaarheidsinterval wordt dan gegeven door\n",
      "                \\begin{align*}\n",
      "                    [\\overline{x} - t \\cdot \\frac{ s }{ \\sqrt{ n } }; \\overline{x} + t \\cdot \\frac{ s }{ \\sqrt{ n } }] \\\\\n",
      "                    &= [42.9231 - 2.0764 \\cdot \\frac{ 4.6451 }{ \\sqrt{ 13 } }; 42.9231 + 2.0764 \\cdot \\frac{ 4.6451 }{ \\sqrt{ 13 } }] \\\\\n",
      "                    &= [40.248; 45.5982].\n",
      "                \\end{align*}\n",
      "            \n"
     ]
    }
   ],
   "source": [
    "def confidence_interval_normal(sample_mean=0, sample_std=1, sigma=None, sample_size=100, alpha=0.05, width=8, height=5, filename=\"test_confidence_interval.png\"):\n",
    "\n",
    "    confidence_level = 1 - alpha\n",
    "    confidence_percentage = int(100 * confidence_level)\n",
    "\n",
    "    \n",
    "    if sigma:\n",
    "        z = norm.ppf(1-alpha/2)\n",
    "        left = sample_mean - z * sigma / sqrt(sample_size)\n",
    "        right = sample_mean + z * sigma / sqrt(sample_size)\n",
    "\n",
    "        latex_code = f\"\"\"\n",
    "            Omdat $\\\\sigma = {sigma}$ bekend is, kunnen we de normale verdeling gebruiken.\n",
    "            De $z$-waarde die hoort bij $\\\\SI{{{confidence_percentage}}}{{\\\\percent}}$ betrouwbaarheid, oftewel $\\\\alpha = {alpha}$, is (in het geval van tweezijdige intervallen) gelijk aan\n",
    "            \\\\[\n",
    "                z_{{\\\\alpha/2}} = \\\\invnorm(\\\\text{{opp}}=1-\\\\frac{{\\\\alpha}}{{2}}) = \\\\invnorm(\\\\text{{opp}}={1-alpha/2}) \\\\approx {pretty_print(z)}.\n",
    "            \\\\]\n",
    "            Het \\\\SI{{{confidence_percentage}}}{{\\\\percent}}-betrouwbaarheidsinterval wordt dan gegeven door\n",
    "            \\\\begin{{align*}}\n",
    "                [\\\\overline{{x}} - z_{{\\\\alpha/2}} \\\\cdot \\\\frac{{ \\\\sigma }}{{ \\\\sqrt{{ n }} }}; \\\\overline{{x}} + z_{{\\\\alpha/2}} \\\\cdot \\\\frac{{ \\\\sigma }}{{ \\\\sqrt{{ n }} }}] \\\\\\\\\n",
    "                &= [{pretty_print(sample_mean)} - {pretty_print(z)} \\\\cdot \\\\frac{{ {pretty_print(sigma)} }}{{ \\\\sqrt{{ {pretty_print(sample_size)} }} }}; {pretty_print(sample_mean)} + {pretty_print(z)} \\\\cdot \\\\frac{{ {pretty_print(sigma)} }}{{ \\\\sqrt{{ {pretty_print(sample_size)} }} }}] \\\\\\\\\n",
    "                &= [{pretty_print(left)}; {pretty_print(right)}].\n",
    "            \\\\end{{align*}}\n",
    "        \"\"\"\n",
    "    else:\n",
    "        if sample_size >= 30:\n",
    "            z = norm.ppf(1-alpha/2)\n",
    "            left = sample_mean - z * sample_std / sqrt(sample_size)\n",
    "            right = sample_mean + z * sample_std / sqrt(sample_size)\n",
    "    \n",
    "            latex_code = f\"\"\"\n",
    "                Hoewel $\\\\sigma$ onbekend is, kunnen we toch met de normale benadering werken omdat de steekproefgrootte $n = {sample_size} \\\\ge 30$ is.\n",
    "                Hierbij mogen we de onbekende $\\\\sigma$ schatten met de steekproefstandaardafwijking $s$.\n",
    "                De $z$-waarde die hoort bij \\\\SI{{{confidence_percentage}}}{{\\\\percent}} betrouwbaarheid, oftewel $\\\\alpha = {alpha}$, is (in het geval van tweezijdige intervallen) gelijk aan\n",
    "                \\\\[\n",
    "                    z_{{\\\\alpha/2}} = \\\\invnorm(\\\\text{{opp}}=1-\\\\frac{{\\\\alpha}}{{2}}) = \\\\invnorm(\\\\text{{opp}}={1-alpha/2}) \\\\approx {pretty_print(z)}.\n",
    "                \\\\]\n",
    "                Het \\\\SI{{{confidence_percentage}}}{{\\\\percent}}-betrouwbaarheidsinterval wordt dan gegeven door\n",
    "                \\\\begin{{align*}}\n",
    "                    [\\\\overline{{x}} - z_{{\\\\alpha/2}} \\\\cdot \\\\frac{{ s }}{{ \\\\sqrt{{ n }} }}; \\\\overline{{x}} + z_{{\\\\alpha/2}} \\\\cdot \\\\frac{{ s }}{{ \\\\sqrt{{ n }} }}] \\\\\\\\\n",
    "                    &= [{pretty_print(sample_mean)} - {pretty_print(z)} \\\\cdot \\\\frac{{ {pretty_print(sample_std)} }}{{ \\\\sqrt{{ {pretty_print(sample_size)} }} }}; {pretty_print(sample_mean)} + {pretty_print(z)} \\\\cdot \\\\frac{{ {pretty_print(sample_std)} }}{{ \\\\sqrt{{ {pretty_print(sample_size)} }} }}] \\\\\\\\\n",
    "                    &= [{pretty_print(left)}; {pretty_print(right)}].\n",
    "                \\\\end{{align*}}\n",
    "            \"\"\"\n",
    "        else:\n",
    "            tval = t.ppf(1-alpha/2, df=sample_size-1)\n",
    "            left = sample_mean - tval * sample_std / sqrt(sample_size)\n",
    "            right = sample_mean + tval * sample_std / sqrt(sample_size)\n",
    "    \n",
    "            latex_code = f\"\"\"\n",
    "                Omdat $\\\\sigma$ onbekend is en de steekproefgrootte $n = {sample_size} < 30$ is, moeten we gebruik maken van de $t$-verdeling.\n",
    "                De $t$-waarde die hoort bij \\\\SI{{94}}{{\\\\percent}} betrouwbaarheid, oftewel $\\\\alpha = {alpha}$, is (in het geval van tweezijdige intervallen) gelijk aan\n",
    "                \\\\[\n",
    "                    t = \\\\invt(\\\\text{{opp}}=1-\\\\frac{{\\\\alpha}}{{2}}; \\\\text{{df}}=n-1) = \\\\invt(\\\\text{{opp}}={1-alpha/2}; \\\\text{{df}}={sample_size-1}) \\\\approx {pretty_print(tval)}.\n",
    "                \\\\]\n",
    "                Het \\\\SI{{{confidence_percentage}}}{{\\\\percent}}-betrouwbaarheidsinterval wordt dan gegeven door\n",
    "                \\\\begin{{align*}}\n",
    "                    [\\\\overline{{x}} - t \\\\cdot \\\\frac{{ s }}{{ \\\\sqrt{{ n }} }}; \\\\overline{{x}} + t \\\\cdot \\\\frac{{ s }}{{ \\\\sqrt{{ n }} }}] \\\\\\\\\n",
    "                    &= [{pretty_print(sample_mean)} - {pretty_print(tval)} \\\\cdot \\\\frac{{ {pretty_print(sample_std)} }}{{ \\\\sqrt{{ {pretty_print(sample_size)} }} }}; {pretty_print(sample_mean)} + {pretty_print(tval)} \\\\cdot \\\\frac{{ {pretty_print(sample_std)} }}{{ \\\\sqrt{{ {pretty_print(sample_size)} }} }}] \\\\\\\\\n",
    "                    &= [{pretty_print(left)}; {pretty_print(right)}].\n",
    "                \\\\end{{align*}}\n",
    "            \"\"\"\n",
    "    print(latex_code)\n",
    "\n",
    "confidence_interval_normal(sample_mean=42.9231, sample_std=4.6451, sample_size=13, alpha=0.06)"
   ]
  },
  {
   "cell_type": "markdown",
   "id": "120ed187-cd6c-45ee-aba2-51d30d506c16",
   "metadata": {},
   "source": [
    "### Minimale steekproefgrootte"
   ]
  },
  {
   "cell_type": "code",
   "execution_count": 8,
   "id": "4e3f3e84-caff-4e07-a9e1-86e0d1a423ab",
   "metadata": {},
   "outputs": [
    {
     "name": "stdout",
     "output_type": "stream",
     "text": [
      "\n",
      "            Omdat $\\sigma = 0.4$ bekend is, kunnen we de normale verdeling gebruiken.\n",
      "            De $z$-waarde die hoort bij \\SI{95}{\\percent} betrouwbaarheid, oftewel $\\alpha = 0.05$, is (in het geval van tweezijdige intervallen) gelijk aan\n",
      "            \\[\n",
      "                z_{\\alpha/2} = \\invnorm(\\text{opp}=1-\\frac{\\alpha}{2}) = \\invnorm(\\text{opp}=0.975) \\approx 1.96.\n",
      "            \\]\n",
      "            De minimale benodigde steekproefgrootte $n$ zodat het \\SI{95}{\\percent}-betrouwbaarheidsinterval maximaal $\\pm 0.1$ afwijkt is gelijk aan:\n",
      "            \\begin{align*}\n",
      "                n \\ge \\left( \\frac{ z_{\\alpha/2} \\cdot \\sigma }{ a } \\right)^2 = \\left( \\frac{ 1.96 \\cdot 0.4 }{ 0.1 }\\right)^2 \\approx 61.4633. \n",
      "            \\end{align*}\n",
      "\n",
      "            Naar boven afronden geeft een minimale steekproefgrootte van $n = 62$.\n",
      "        \n"
     ]
    }
   ],
   "source": [
    "def minimale_steekproefgrootte(sample_std=1, sigma=None, afwijking=1, alpha=0.05, width=8, height=5, filename=\"test_confidence_interval.png\"):\n",
    "    confidence_level = 1 - alpha\n",
    "    confidence_percentage = int(100 * confidence_level)\n",
    "\n",
    "    if sigma:\n",
    "        z = norm.ppf(1-alpha/2)\n",
    "        n = (z * sigma / afwijking) ** 2\n",
    "        latex_code = f\"\"\"\n",
    "            Omdat $\\\\sigma = {sigma}$ bekend is, kunnen we de normale verdeling gebruiken.\n",
    "            De $z$-waarde die hoort bij \\\\SI{{{confidence_percentage}}}{{\\\\percent}} betrouwbaarheid, oftewel $\\\\alpha = {alpha}$, is (in het geval van tweezijdige intervallen) gelijk aan\n",
    "            \\\\[\n",
    "                z_{{\\\\alpha/2}} = \\\\invnorm(\\\\text{{opp}}=1-\\\\frac{{\\\\alpha}}{{2}}) = \\\\invnorm(\\\\text{{opp}}={1-alpha/2}) \\\\approx {pretty_print(z)}.\n",
    "            \\\\]\n",
    "            De minimale benodigde steekproefgrootte $n$ zodat het \\\\SI{{{confidence_percentage}}}{{\\\\percent}}-betrouwbaarheidsinterval maximaal $\\\\pm {afwijking}$ afwijkt is gelijk aan:\n",
    "            \\\\begin{{align*}}\n",
    "                n \\\\ge \\\\left( \\\\frac{{ z_{{\\\\alpha/2}} \\\\cdot \\\\sigma }}{{ a }} \\\\right)^2 = \\\\left( \\\\frac{{ {pretty_print(z)} \\\\cdot {pretty_print(sigma)} }}{{ {afwijking} }}\\\\right)^2 \\\\approx {pretty_print(n)}. \n",
    "            \\\\end{{align*}}\n",
    "\n",
    "            Naar boven afronden geeft een minimale steekproefgrootte van $n = {int(ceil(n))}$.\n",
    "        \"\"\"\n",
    "    else:\n",
    "        if sample_size >= 30:\n",
    "            z = norm.ppf(1-alpha/2)\n",
    "            left = sample_mean - z * sample_std / sqrt(sample_size)\n",
    "            right = sample_mean + z * sample_std / sqrt(sample_size)\n",
    "    \n",
    "            latex_code = f\"\"\"\n",
    "                Hoewel $\\\\sigma$ onbekend is, kunnen we toch met de normale benadering werken omdat de steekproefgrootte $n = {sample_size} \\\\ge 30$ is.\n",
    "                Hierbij mogen we de onbekende $\\\\sigma$ schatten met de steekproefstandaardafwijking $s$.\n",
    "                De $z$-waarde die hoort bij \\\\SI{{{confidence_percentage}}}{{\\\\percent}} betrouwbaarheid, oftewel $\\\\alpha = {alpha}$, is (in het geval van tweezijdige intervallen) gelijk aan\n",
    "                \\\\[\n",
    "                    z_{{\\\\alpha/2}} = \\\\invnorm(\\\\text{{opp}}=1-\\\\frac{{\\\\alpha}}{{2}}) = \\\\invnorm(\\\\text{{opp}}={1-alpha/2}) \\\\approx {pretty_print(z)}.\n",
    "                \\\\]\n",
    "                Het \\\\SI{{{confidence_percentage}}}{{\\\\percent}}-betrouwbaarheidsinterval wordt dan gegeven door\n",
    "                \\\\begin{{align*}}\n",
    "                    [\\\\overline{{x}} - z_{{\\\\alpha/2}} \\\\cdot \\\\frac{{ s }}{{ \\\\sqrt{{ n }} }}; \\\\overline{{x}} + z_{{\\\\alpha/2}} \\\\cdot \\\\frac{{ s }}{{ \\\\sqrt{{ n }} }}] \\\\\\\\\n",
    "                    &= [{pretty_print(sample_mean)} - {pretty_print(z)} \\\\cdot \\\\frac{{ {pretty_print(sample_std)} }}{{ \\\\sqrt{{ {pretty_print(sample_size)} }} }}; {pretty_print(sample_mean)} + {pretty_print(z)} \\\\cdot \\\\frac{{ {pretty_print(sample_std)} }}{{ \\\\sqrt{{ {pretty_print(sample_size)} }} }}] \\\\\\\\\n",
    "                    &= [{pretty_print(left)}; {pretty_print(right)}].\n",
    "                \\\\end{{align*}}\n",
    "            \"\"\"\n",
    "        else:\n",
    "            tval = t.ppf(1-alpha/2, df=sample_size-1)\n",
    "            left = sample_mean - tval * sample_std / sqrt(sample_size)\n",
    "            right = sample_mean + tval * sample_std / sqrt(sample_size)\n",
    "    \n",
    "            latex_code = f\"\"\"\n",
    "                Omdat $\\\\sigma$ onbekend is en de steekproefgrootte $n = {sample_size} < 30$ is, moeten we gebruik maken van de $t$-verdeling.\n",
    "                De $t$-waarde die hoort bij \\\\SI{{94}}{{\\\\percent}} betrouwbaarheid, oftewel $\\\\alpha = {alpha}$, is (in het geval van tweezijdige intervallen) gelijk aan\n",
    "                \\\\[\n",
    "                    t = \\\\invt(\\\\text{{opp}}=1-\\\\frac{{\\\\alpha}}{{2}}; \\\\text{{df}}=n-1) = \\\\invt(\\\\text{{opp}}={1-alpha/2}; \\\\text{{df}}={sample_size-1}) \\\\approx {pretty_print(tval)}.\n",
    "                \\\\]\n",
    "                Het \\\\SI{{{confidence_percentage}}}{{\\\\percent}}-betrouwbaarheidsinterval wordt dan gegeven door\n",
    "                \\\\begin{{align*}}\n",
    "                    [\\\\overline{{x}} - t \\\\cdot \\\\frac{{ s }}{{ \\\\sqrt{{ n }} }}; \\\\overline{{x}} + t \\\\cdot \\\\frac{{ s }}{{ \\\\sqrt{{ n }} }}] \\\\\\\\\n",
    "                    &= [{pretty_print(sample_mean)} - {pretty_print(tval)} \\\\cdot \\\\frac{{ {pretty_print(sample_std)} }}{{ \\\\sqrt{{ {pretty_print(sample_size)} }} }}; {pretty_print(sample_mean)} + {pretty_print(tval)} \\\\cdot \\\\frac{{ {pretty_print(sample_std)} }}{{ \\\\sqrt{{ {pretty_print(sample_size)} }} }}] \\\\\\\\\n",
    "                    &= [{pretty_print(left)}; {pretty_print(right)}].\n",
    "                \\\\end{{align*}}\n",
    "            \"\"\"\n",
    "    print(latex_code)\n",
    "\n",
    "minimale_steekproefgrootte(sigma=0.4, afwijking=0.1, alpha=0.05)"
   ]
  },
  {
   "cell_type": "markdown",
   "id": "90843efc-6501-4af7-b948-e25e5ea6b3db",
   "metadata": {},
   "source": [
    "## Voorspellingsintervallen"
   ]
  },
  {
   "cell_type": "code",
   "execution_count": 10,
   "id": "cebb2ec0-cbc5-402a-b650-d07901283693",
   "metadata": {},
   "outputs": [],
   "source": [
    "def prediction_interval_normal(mu=0, sigma=1, alpha=0.05, width=8, height=5, filename=\"test_prediction_interval.png\"):\n",
    "    variable_name = \"Z\" if mu == 0 and sigma == 1 else \"X\"\n",
    "\n",
    "    xmin, xmax = mu - 4 * sigma, mu + 4 * sigma\n",
    "    x = np.linspace(xmin, xmax, 1000)\n",
    "    y = norm.pdf(x, mu, sigma)\n",
    "    confidence_level = 1 - alpha\n",
    "    confidence_percentage = int(100 * confidence_level)\n",
    "\n",
    "    left = norm.ppf(alpha / 2, mu, sigma)\n",
    "    right = norm.ppf(1 - alpha / 2, mu, sigma)\n",
    "    \n",
    "    # Plot characterization\n",
    "    fig, ax = plt.subplots(figsize=(width, height))\n",
    "    \n",
    "    ax.plot(x, y, color=primary_plot_color)\n",
    "    ax.fill_between(x, y, where=((x >= left)&(x<=right)), color=acceptable_color, alpha=opacity_level)\n",
    "    ax.fill_between(x, y, where=((x <= left)|(x>=right)), color=critical_color, alpha=opacity_level)\n",
    "\n",
    "    ymin, ymax = ax.get_ylim()\n",
    "    ytext, offset = get_y_annotation(ax)\n",
    "    ax.set_ylim(ymin - 2 * offset, ymax)\n",
    "\n",
    "    ax.plot([left, left], [0, norm.pdf(left, mu, sigma)], color=primary_plot_color, linestyle='--', label = f\"$g_1 \\\\approx {pretty_print(left)}$\")\n",
    "    ax.text(left, ytext, \"$g_1$\", color=primary_plot_color, ha=\"center\", va=\"center\")\n",
    "    \n",
    "    ax.plot([right, right], [0, norm.pdf(right, mu, sigma)], color=primary_plot_color, linestyle='--', label = f\"$g_2 \\\\approx {pretty_print(right)}$\")\n",
    "    ax.text(right, ytext, \"$g_2$\", color=primary_plot_color, ha=\"center\", va=\"center\")\n",
    "\n",
    "    ax.set_title(f'${confidence_percentage}\\\\%$-voorspellingsinterval voor ${variable_name} \\\\sim N(\\\\mu={mu}, \\\\sigma={sigma})$')\n",
    "    # plt.title(f\"Voorspellingsinterval: $[{left:.4f}; {right:.4f}]$\")\n",
    "\n",
    "    if variable_name == \"Z\":\n",
    "        ax.set_xlabel('$z$')\n",
    "        ax.set_ylabel('Standaardnormale kansdichtheidsdfunctie $f(z)$')\n",
    "    else:\n",
    "        ax.set_xlabel('$x$')\n",
    "        ax.set_ylabel('Normale kansdichtheidsdfunctie $f(x)$')\n",
    "    \n",
    "    plt.legend()#loc='center left', bbox_to_anchor=(1, 0.5), ncol=1)\n",
    "    plt.tight_layout()\n",
    "\n",
    "    # Save figure\n",
    "    plt.savefig(filename)"
   ]
  },
  {
   "cell_type": "markdown",
   "id": "553f4ada-fc89-403c-bf17-169a6d27e6f9",
   "metadata": {},
   "source": [
    "### Voorbeeld gebruik"
   ]
  },
  {
   "cell_type": "code",
   "execution_count": 12,
   "id": "fadd5643-3880-49bd-86af-85c8db30b893",
   "metadata": {},
   "outputs": [
    {
     "data": {
      "image/png": "[encoded data removed]",
      "text/plain": [
       "<Figure size 800x500 with 1 Axes>"
      ]
     },
     "metadata": {},
     "output_type": "display_data"
    }
   ],
   "source": [
    "prediction_interval_normal(mu=1620, sigma=65, alpha=0.05, filename=FIGURE_PATH + \"test_prediction_interval.png\")"
   ]
  },
  {
   "cell_type": "markdown",
   "id": "41861dce-999f-46f6-8a82-6f88c1a2a362",
   "metadata": {},
   "source": [
    "## LaTeX code generation"
   ]
  },
  {
   "cell_type": "code",
   "execution_count": 14,
   "id": "f14adf88-76c6-42c0-a5d8-10cd5d100c60",
   "metadata": {},
   "outputs": [],
   "source": [
    "def latex_sample_mean(data):\n",
    "    n = len(data)\n",
    "    mean = pretty_print(sample_mean(data))\n",
    "    latex_code = f\"\"\"\n",
    "        We berekenen het steekproefgemiddelde $\\\\overline{{x}}$ als volgt:\n",
    "        \\\\begin{{align*}}\n",
    "            \\\\overline{{x}} = \\\\frac{{x_1+x_2+\\\\ldots+x_n}}{{n}} = \\\\frac{{ {data[0]} + {data[1]} + \\\\ldots + {data[-1]} }}{{ {n} }} \\\\approx {mean}.\n",
    "        \\\\end{{align*}}\n",
    "    \"\"\"\n",
    "    return latex_code\n",
    "\n",
    "def latex_sample_variance(data, ddof=1):\n",
    "    n = len(data)\n",
    "    mean = pretty_print(sample_mean(data))\n",
    "    var = pretty_print(sample_variance(data, ddof))\n",
    "    latex_code = f\"\"\"\n",
    "        We berekenen de steekproefvariantie $s^2$ als volgt:\n",
    "        \\\\begin{{align*}}\n",
    "            s^2 &= \\\\frac{{ (x_1 - \\\\overline{{x}})^2 + (x_2 - \\\\overline{{x}})^2 + \\\\ldots + (x_n - \\\\overline{{x}})^2 }}{{ n - {ddof} }} \\\\\\\\\n",
    "                &= \\\\frac{{ ({data[0]} - {mean})^2 + ({data[1]} - {mean})^2 + \\\\ldots + ({data[-1]} - {mean})^2 }}{{ {n} - {ddof} }} \\\\\\\\\n",
    "                &\\\\approx {var}.\n",
    "        \\\\end{{align*}}\n",
    "    \"\"\"\n",
    "    return latex_code\n",
    "\n",
    "def latex_sample_std(data, ddof=1):\n",
    "    n = len(data)\n",
    "    var = pretty_print(sample_variance(data, ddof))\n",
    "    std = pretty_print(sample_std(data, ddof))\n",
    "    latex_code = f\"\"\"\n",
    "        We berekenen de steekproefstandaardafwijking $s$ door te wortel van de steekproefvariantie $s^2$ te nemen:\n",
    "        \\\\begin{{align*}}\n",
    "            s = \\\\sqrt{{ s^2 }} = \\\\sqrt{{ {var} }} \\\\approx {std}.\n",
    "        \\\\end{{align*}}\n",
    "    \"\"\"\n",
    "    return latex_code"
   ]
  },
  {
   "cell_type": "markdown",
   "id": "a8a87024-33f5-4989-8189-21027dfd3768",
   "metadata": {},
   "source": [
    "### Voorbeeld gebruik"
   ]
  },
  {
   "cell_type": "code",
   "execution_count": 16,
   "id": "44efbf84-9e60-4e6a-9e95-91114f9c0e0a",
   "metadata": {},
   "outputs": [
    {
     "name": "stdout",
     "output_type": "stream",
     "text": [
      "\n",
      "        We berekenen het steekproefgemiddelde $\\overline{x}$ als volgt:\n",
      "        \\begin{align*}\n",
      "            \\overline{x} = \\frac{x_1+x_2+\\ldots+x_n}{n} = \\frac{ 39 + 42 + \\ldots + 44 }{ 13 } \\approx 42.9231.\n",
      "        \\end{align*}\n",
      "    \n",
      "\n",
      "        We berekenen de steekproefvariantie $s^2$ als volgt:\n",
      "        \\begin{align*}\n",
      "            s^2 &= \\frac{ (x_1 - \\overline{x})^2 + (x_2 - \\overline{x})^2 + \\ldots + (x_n - \\overline{x})^2 }{ n - 1 } \\\\\n",
      "                &= \\frac{ (39 - 42.9231)^2 + (42 - 42.9231)^2 + \\ldots + (44 - 42.9231)^2 }{ 13 - 1 } \\\\\n",
      "                &\\approx 21.5769.\n",
      "        \\end{align*}\n",
      "    \n",
      "\n",
      "        We berekenen de steekproefstandaardafwijking $s$ door te wortel van de steekproefvariantie $s^2$ te nemen:\n",
      "        \\begin{align*}\n",
      "            s = \\sqrt{ s^2 } = \\sqrt{ 21.5769 } \\approx 4.6451.\n",
      "        \\end{align*}\n",
      "    \n",
      "\n",
      "        We berekenen het steekproefgemiddelde $\\overline{x}$ als volgt:\n",
      "        \\begin{align*}\n",
      "            \\overline{x} = \\frac{x_1+x_2+\\ldots+x_n}{n} = \\frac{ 42 + 45 + \\ldots + 47 }{ 13 } \\approx 45.9231.\n",
      "        \\end{align*}\n",
      "    \n",
      "\n",
      "        We berekenen de steekproefvariantie $s^2$ als volgt:\n",
      "        \\begin{align*}\n",
      "            s^2 &= \\frac{ (x_1 - \\overline{x})^2 + (x_2 - \\overline{x})^2 + \\ldots + (x_n - \\overline{x})^2 }{ n - 1 } \\\\\n",
      "                &= \\frac{ (42 - 45.9231)^2 + (45 - 45.9231)^2 + \\ldots + (47 - 45.9231)^2 }{ 13 - 1 } \\\\\n",
      "                &\\approx 21.5769.\n",
      "        \\end{align*}\n",
      "    \n",
      "\n",
      "        We berekenen de steekproefstandaardafwijking $s$ door te wortel van de steekproefvariantie $s^2$ te nemen:\n",
      "        \\begin{align*}\n",
      "            s = \\sqrt{ s^2 } = \\sqrt{ 21.5769 } \\approx 4.6451.\n",
      "        \\end{align*}\n",
      "    \n"
     ]
    }
   ],
   "source": [
    "data1 = [39, 42, 44, 48, 47, 43, 31, 46, 40, 42, 43, 49, 44] # Hartslag vrouwen\n",
    "data2 = [42, 45, 47, 51, 50, 46, 34, 49, 43, 45, 46, 52, 47] # Hartslag mannen\n",
    "\n",
    "for data in [data1, data2]:\n",
    "    mean_code = latex_sample_mean(data)\n",
    "    print(mean_code)\n",
    "    \n",
    "    var_code = latex_sample_variance(data)\n",
    "    print(var_code)\n",
    "    \n",
    "    std_code = latex_sample_std(data)\n",
    "    print(std_code)"
   ]
  },
  {
   "cell_type": "code",
   "execution_count": null,
   "id": "1a7b6cfb-801a-4747-8a49-281d67a9be55",
   "metadata": {},
   "outputs": [],
   "source": []
  }
 ],
 "metadata": {
  "kernelspec": {
   "display_name": "Python [conda env:base] *",
   "language": "python",
   "name": "conda-base-py"
  },
  "language_info": {
   "codemirror_mode": {
    "name": "ipython",
    "version": 3
   },
   "file_extension": ".py",
   "mimetype": "text/x-python",
   "name": "python",
   "nbconvert_exporter": "python",
   "pygments_lexer": "ipython3",
   "version": "3.12.3"
  }
 },
 "nbformat": 4,
 "nbformat_minor": 5
}
