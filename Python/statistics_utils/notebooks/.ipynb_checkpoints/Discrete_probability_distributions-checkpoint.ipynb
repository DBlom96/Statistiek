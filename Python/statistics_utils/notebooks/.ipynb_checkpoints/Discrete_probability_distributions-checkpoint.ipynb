{
 "cells": [
  {
   "cell_type": "code",
   "execution_count": 15,
   "id": "f1c3c997-d86c-4ff5-a4e8-78f59552f9cf",
   "metadata": {},
   "outputs": [],
   "source": [
    "import numpy as np\n",
    "import matplotlib.pyplot as plt\n",
    "from scipy.stats import binom\n",
    "from math import sqrt"
   ]
  },
  {
   "cell_type": "markdown",
   "id": "4b432608-c764-41be-bf4b-01d872711c54",
   "metadata": {},
   "source": [
    "# Discrete kansvariabelen"
   ]
  },
  {
   "cell_type": "code",
   "execution_count": 24,
   "id": "2ec7acd1-9948-4a1b-a36a-dbefdc9e4cf2",
   "metadata": {},
   "outputs": [
    {
     "name": "stdout",
     "output_type": "stream",
     "text": [
      "Verwachtingswaarde: $E[X] = 1.80$\n",
      "Standaardafwijking: $\\sigma=1.12$\n"
     ]
    },
    {
     "ename": "TypeError",
     "evalue": "P_equals() missing 1 required positional argument: 'k'",
     "output_type": "error",
     "traceback": [
      "\u001b[1;31m---------------------------------------------------------------------------\u001b[0m",
      "\u001b[1;31mTypeError\u001b[0m                                 Traceback (most recent call last)",
      "Cell \u001b[1;32mIn[24], line 63\u001b[0m\n\u001b[0;32m     61\u001b[0m \u001b[38;5;66;03m# Voorbeeld: kansen berekenen\u001b[39;00m\n\u001b[0;32m     62\u001b[0m k \u001b[38;5;241m=\u001b[39m \u001b[38;5;241m2\u001b[39m\n\u001b[1;32m---> 63\u001b[0m \u001b[38;5;28mprint\u001b[39m(\u001b[38;5;124mf\u001b[39m\u001b[38;5;124m\"\u001b[39m\u001b[38;5;124mP(X = \u001b[39m\u001b[38;5;132;01m{\u001b[39;00mk\u001b[38;5;132;01m}\u001b[39;00m\u001b[38;5;124m) = \u001b[39m\u001b[38;5;132;01m{\u001b[39;00mP_equals(k)\u001b[38;5;132;01m:\u001b[39;00m\u001b[38;5;124m.3f\u001b[39m\u001b[38;5;132;01m}\u001b[39;00m\u001b[38;5;124m\"\u001b[39m)\n\u001b[0;32m     64\u001b[0m \u001b[38;5;28mprint\u001b[39m(\u001b[38;5;124mf\u001b[39m\u001b[38;5;124m\"\u001b[39m\u001b[38;5;124mP(X <= \u001b[39m\u001b[38;5;132;01m{\u001b[39;00mk\u001b[38;5;132;01m}\u001b[39;00m\u001b[38;5;124m) = \u001b[39m\u001b[38;5;132;01m{\u001b[39;00mP_leq(k)\u001b[38;5;132;01m:\u001b[39;00m\u001b[38;5;124m.3f\u001b[39m\u001b[38;5;132;01m}\u001b[39;00m\u001b[38;5;124m\"\u001b[39m)\n\u001b[0;32m     65\u001b[0m \u001b[38;5;28mprint\u001b[39m(\u001b[38;5;124mf\u001b[39m\u001b[38;5;124m\"\u001b[39m\u001b[38;5;124mP(X >= \u001b[39m\u001b[38;5;132;01m{\u001b[39;00mk\u001b[38;5;132;01m}\u001b[39;00m\u001b[38;5;124m) = \u001b[39m\u001b[38;5;132;01m{\u001b[39;00mP_geq(k)\u001b[38;5;132;01m:\u001b[39;00m\u001b[38;5;124m.3f\u001b[39m\u001b[38;5;132;01m}\u001b[39;00m\u001b[38;5;124m\"\u001b[39m)\n",
      "\u001b[1;31mTypeError\u001b[0m: P_equals() missing 1 required positional argument: 'k'"
     ]
    }
   ],
   "source": [
    "def draw_stem_plot(outcomes, probabilities, filename=\"test.pdf\"):\n",
    "    # Check if the probabilities add up to 1\n",
    "    if sum(probabilities) != 1:\n",
    "        raise ValueError(\"The probabilities should add up to 1\")\n",
    "\n",
    "    plt.stem(outcomes, probabilities, basefmt=\" \", use_line_collection=True)\n",
    "    plt.xlabel(\"Uitkomst $x$\")\n",
    "    plt.ylabel(\"Kansfunctie $P(X = x)$\")\n",
    "    plt.title(\"Naalddiagram van discrete kansvariabele\")\n",
    "    plt.savefig(filename)\n",
    "\n",
    "def compute_expected_value(probability_dict):\n",
    "    return sum(k * v for (k, v) in probability_dict.items())\n",
    "\n",
    "def compute_variance(probability_dict):\n",
    "    mean = compute_expected_value(probability_dict)\n",
    "    return sum((k - mean) ** 2 * v for (k, v) in probability_dict.items())\n",
    "\n",
    "def compute_standard_deviation(probability_dict):\n",
    "    variance = compute_variance(probability_dict)\n",
    "    return sqrt(variance)\n",
    "\n",
    "# Voorbeeld: aantal bloedunits per soldaat\n",
    "outcomes = [0, 1, 2, 3, 4]\n",
    "probabilities = [0.10, 0.35, 0.30, 0.15, 0.10]\n",
    "probability_dict = {k: v for (k, v) in zip(outcomes, probabilities)}\n",
    "\n",
    "\n",
    "# --- Verwachtingswaarde en standaardafwijking ---\n",
    "expected_value = compute_expected_value(probability_dict)\n",
    "variance = compute_variance(probability_dict)\n",
    "std_dev = compute_standard_deviation(probability_dict)\n",
    "\n",
    "print(f\"Verwachtingswaarde: $E[X] = {expected_value:.2f}$\")\n",
    "print(f\"Standaardafwijking: $\\\\sigma={std_dev:.2f}$\")\n",
    "\n",
    "# --- Extra kansberekeningen ---\n",
    "def P_equals(probability_dict, k):\n",
    "    \"\"\"Kans dat X exact k is\"\"\"\n",
    "    if k in probability_dict:\n",
    "        return probability_dict[k]\n",
    "    else:\n",
    "        return 0.0\n",
    "\n",
    "def P_leq(k):\n",
    "    \"\"\"Kans dat X <= k\"\"\"\n",
    "    prob = 0\n",
    "    for key in probability_dict:\n",
    "        if key <= k:\n",
    "            prob += probability_dict[key]\n",
    "    return prob\n",
    "\n",
    "def P_geq(k):\n",
    "    \"\"\"Kans dat X >= k\"\"\"\n",
    "    prob = 0\n",
    "    for key in probability_dict:\n",
    "        if key >= k:\n",
    "            prob += probability_dict[key]\n",
    "    return prob\n",
    "\n",
    "# Voorbeeld: kansen berekenen\n",
    "k = 2\n",
    "print(f\"P(X = {k}) = {P_equals(probability_dict, k):.3f}\")\n",
    "print(f\"P(X <= {k}) = {P_leq(probability_dict, k):.3f}\")\n",
    "print(f\"P(X >= {k}) = {P_geq(probability_dict, k):.3f}\")"
   ]
  },
  {
   "cell_type": "code",
   "execution_count": null,
   "id": "f1fdbbe9-b696-4ad1-920e-3bc16f3a9b90",
   "metadata": {},
   "outputs": [],
   "source": []
  }
 ],
 "metadata": {
  "kernelspec": {
   "display_name": "Python [conda env:base] *",
   "language": "python",
   "name": "conda-base-py"
  },
  "language_info": {
   "codemirror_mode": {
    "name": "ipython",
    "version": 3
   },
   "file_extension": ".py",
   "mimetype": "text/x-python",
   "name": "python",
   "nbconvert_exporter": "python",
   "pygments_lexer": "ipython3",
   "version": "3.12.3"
  }
 },
 "nbformat": 4,
 "nbformat_minor": 5
}
