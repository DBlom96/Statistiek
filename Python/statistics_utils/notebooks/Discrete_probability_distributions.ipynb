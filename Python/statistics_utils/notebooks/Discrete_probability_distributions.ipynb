{
 "cells": [
  {
   "cell_type": "code",
   "execution_count": 15,
   "id": "f1c3c997-d86c-4ff5-a4e8-78f59552f9cf",
   "metadata": {},
   "outputs": [],
   "source": [
    "import numpy as np\n",
    "import matplotlib.pyplot as plt\n",
    "from scipy.stats import binom\n",
    "from math import sqrt"
   ]
  },
  {
   "cell_type": "markdown",
   "id": "4b432608-c764-41be-bf4b-01d872711c54",
   "metadata": {},
   "source": [
    "# Discrete kansvariabelen"
   ]
  },
  {
   "cell_type": "code",
   "execution_count": 34,
   "id": "2ec7acd1-9948-4a1b-a36a-dbefdc9e4cf2",
   "metadata": {},
   "outputs": [
    {
     "name": "stdout",
     "output_type": "stream",
     "text": [
      "Verwachtingswaarde: $E[X] = 3.22$\n",
      "Standaardafwijking: $\\sigma=1.63$\n",
      "P(X = 2) = 0.160\n",
      "P(X <= 2) = 0.350\n",
      "P(X >= 2) = 0.810\n"
     ]
    },
    {
     "ename": "ValueError",
     "evalue": "could not broadcast input array from shape (7,) into shape (8,)",
     "output_type": "error",
     "traceback": [
      "\u001b[1;31m---------------------------------------------------------------------------\u001b[0m",
      "\u001b[1;31mValueError\u001b[0m                                Traceback (most recent call last)",
      "Cell \u001b[1;32mIn[34], line 68\u001b[0m\n\u001b[0;32m     65\u001b[0m \u001b[38;5;28mprint\u001b[39m(\u001b[38;5;124mf\u001b[39m\u001b[38;5;124m\"\u001b[39m\u001b[38;5;124mP(X <= \u001b[39m\u001b[38;5;132;01m{\u001b[39;00mk\u001b[38;5;132;01m}\u001b[39;00m\u001b[38;5;124m) = \u001b[39m\u001b[38;5;132;01m{\u001b[39;00mP_leq(probability_dict,\u001b[38;5;250m \u001b[39mk)\u001b[38;5;132;01m:\u001b[39;00m\u001b[38;5;124m.3f\u001b[39m\u001b[38;5;132;01m}\u001b[39;00m\u001b[38;5;124m\"\u001b[39m)\n\u001b[0;32m     66\u001b[0m \u001b[38;5;28mprint\u001b[39m(\u001b[38;5;124mf\u001b[39m\u001b[38;5;124m\"\u001b[39m\u001b[38;5;124mP(X >= \u001b[39m\u001b[38;5;132;01m{\u001b[39;00mk\u001b[38;5;132;01m}\u001b[39;00m\u001b[38;5;124m) = \u001b[39m\u001b[38;5;132;01m{\u001b[39;00mP_geq(probability_dict,\u001b[38;5;250m \u001b[39mk)\u001b[38;5;132;01m:\u001b[39;00m\u001b[38;5;124m.3f\u001b[39m\u001b[38;5;132;01m}\u001b[39;00m\u001b[38;5;124m\"\u001b[39m)\n\u001b[1;32m---> 68\u001b[0m draw_stem_plot(outcomes, probabilities)\n",
      "Cell \u001b[1;32mIn[34], line 6\u001b[0m, in \u001b[0;36mdraw_stem_plot\u001b[1;34m(outcomes, probabilities, filename)\u001b[0m\n\u001b[0;32m      3\u001b[0m \u001b[38;5;28;01mif\u001b[39;00m \u001b[38;5;28msum\u001b[39m(probabilities) \u001b[38;5;241m!=\u001b[39m \u001b[38;5;241m1\u001b[39m:\n\u001b[0;32m      4\u001b[0m     \u001b[38;5;28;01mraise\u001b[39;00m \u001b[38;5;167;01mValueError\u001b[39;00m(\u001b[38;5;124m\"\u001b[39m\u001b[38;5;124mThe probabilities should add up to 1\u001b[39m\u001b[38;5;124m\"\u001b[39m)\n\u001b[1;32m----> 6\u001b[0m plt\u001b[38;5;241m.\u001b[39mstem(outcomes, probabilities, basefmt\u001b[38;5;241m=\u001b[39m\u001b[38;5;124m\"\u001b[39m\u001b[38;5;124m \u001b[39m\u001b[38;5;124m\"\u001b[39m)\n\u001b[0;32m      7\u001b[0m plt\u001b[38;5;241m.\u001b[39mxlabel(\u001b[38;5;124m\"\u001b[39m\u001b[38;5;124mUitkomst $x$\u001b[39m\u001b[38;5;124m\"\u001b[39m)\n\u001b[0;32m      8\u001b[0m plt\u001b[38;5;241m.\u001b[39mylabel(\u001b[38;5;124m\"\u001b[39m\u001b[38;5;124mKansfunctie $P(X = x)$\u001b[39m\u001b[38;5;124m\"\u001b[39m)\n",
      "File \u001b[1;32m~\\anaconda3\\Lib\\site-packages\\matplotlib\\pyplot.py:4039\u001b[0m, in \u001b[0;36mstem\u001b[1;34m(linefmt, markerfmt, basefmt, bottom, label, orientation, data, *args)\u001b[0m\n\u001b[0;32m   4028\u001b[0m \u001b[38;5;129m@_copy_docstring_and_deprecators\u001b[39m(Axes\u001b[38;5;241m.\u001b[39mstem)\n\u001b[0;32m   4029\u001b[0m \u001b[38;5;28;01mdef\u001b[39;00m \u001b[38;5;21mstem\u001b[39m(\n\u001b[0;32m   4030\u001b[0m     \u001b[38;5;241m*\u001b[39margs: ArrayLike \u001b[38;5;241m|\u001b[39m \u001b[38;5;28mstr\u001b[39m,\n\u001b[1;32m   (...)\u001b[0m\n\u001b[0;32m   4037\u001b[0m     data\u001b[38;5;241m=\u001b[39m\u001b[38;5;28;01mNone\u001b[39;00m,\n\u001b[0;32m   4038\u001b[0m ) \u001b[38;5;241m-\u001b[39m\u001b[38;5;241m>\u001b[39m StemContainer:\n\u001b[1;32m-> 4039\u001b[0m     \u001b[38;5;28;01mreturn\u001b[39;00m gca()\u001b[38;5;241m.\u001b[39mstem(\n\u001b[0;32m   4040\u001b[0m         \u001b[38;5;241m*\u001b[39margs,\n\u001b[0;32m   4041\u001b[0m         linefmt\u001b[38;5;241m=\u001b[39mlinefmt,\n\u001b[0;32m   4042\u001b[0m         markerfmt\u001b[38;5;241m=\u001b[39mmarkerfmt,\n\u001b[0;32m   4043\u001b[0m         basefmt\u001b[38;5;241m=\u001b[39mbasefmt,\n\u001b[0;32m   4044\u001b[0m         bottom\u001b[38;5;241m=\u001b[39mbottom,\n\u001b[0;32m   4045\u001b[0m         label\u001b[38;5;241m=\u001b[39mlabel,\n\u001b[0;32m   4046\u001b[0m         orientation\u001b[38;5;241m=\u001b[39morientation,\n\u001b[0;32m   4047\u001b[0m         \u001b[38;5;241m*\u001b[39m\u001b[38;5;241m*\u001b[39m({\u001b[38;5;124m\"\u001b[39m\u001b[38;5;124mdata\u001b[39m\u001b[38;5;124m\"\u001b[39m: data} \u001b[38;5;28;01mif\u001b[39;00m data \u001b[38;5;129;01mis\u001b[39;00m \u001b[38;5;129;01mnot\u001b[39;00m \u001b[38;5;28;01mNone\u001b[39;00m \u001b[38;5;28;01melse\u001b[39;00m {}),\n\u001b[0;32m   4048\u001b[0m     )\n",
      "File \u001b[1;32m~\\anaconda3\\Lib\\site-packages\\matplotlib\\__init__.py:1473\u001b[0m, in \u001b[0;36m_preprocess_data.<locals>.inner\u001b[1;34m(ax, data, *args, **kwargs)\u001b[0m\n\u001b[0;32m   1470\u001b[0m \u001b[38;5;129m@functools\u001b[39m\u001b[38;5;241m.\u001b[39mwraps(func)\n\u001b[0;32m   1471\u001b[0m \u001b[38;5;28;01mdef\u001b[39;00m \u001b[38;5;21minner\u001b[39m(ax, \u001b[38;5;241m*\u001b[39margs, data\u001b[38;5;241m=\u001b[39m\u001b[38;5;28;01mNone\u001b[39;00m, \u001b[38;5;241m*\u001b[39m\u001b[38;5;241m*\u001b[39mkwargs):\n\u001b[0;32m   1472\u001b[0m     \u001b[38;5;28;01mif\u001b[39;00m data \u001b[38;5;129;01mis\u001b[39;00m \u001b[38;5;28;01mNone\u001b[39;00m:\n\u001b[1;32m-> 1473\u001b[0m         \u001b[38;5;28;01mreturn\u001b[39;00m func(\n\u001b[0;32m   1474\u001b[0m             ax,\n\u001b[0;32m   1475\u001b[0m             \u001b[38;5;241m*\u001b[39m\u001b[38;5;28mmap\u001b[39m(sanitize_sequence, args),\n\u001b[0;32m   1476\u001b[0m             \u001b[38;5;241m*\u001b[39m\u001b[38;5;241m*\u001b[39m{k: sanitize_sequence(v) \u001b[38;5;28;01mfor\u001b[39;00m k, v \u001b[38;5;129;01min\u001b[39;00m kwargs\u001b[38;5;241m.\u001b[39mitems()})\n\u001b[0;32m   1478\u001b[0m     bound \u001b[38;5;241m=\u001b[39m new_sig\u001b[38;5;241m.\u001b[39mbind(ax, \u001b[38;5;241m*\u001b[39margs, \u001b[38;5;241m*\u001b[39m\u001b[38;5;241m*\u001b[39mkwargs)\n\u001b[0;32m   1479\u001b[0m     auto_label \u001b[38;5;241m=\u001b[39m (bound\u001b[38;5;241m.\u001b[39marguments\u001b[38;5;241m.\u001b[39mget(label_namer)\n\u001b[0;32m   1480\u001b[0m                   \u001b[38;5;129;01mor\u001b[39;00m bound\u001b[38;5;241m.\u001b[39mkwargs\u001b[38;5;241m.\u001b[39mget(label_namer))\n",
      "File \u001b[1;32m~\\anaconda3\\Lib\\site-packages\\matplotlib\\axes\\_axes.py:3130\u001b[0m, in \u001b[0;36mAxes.stem\u001b[1;34m(self, linefmt, markerfmt, basefmt, bottom, label, orientation, *args)\u001b[0m\n\u001b[0;32m   3128\u001b[0m     linestyle \u001b[38;5;241m=\u001b[39m mpl\u001b[38;5;241m.\u001b[39mrcParams[\u001b[38;5;124m'\u001b[39m\u001b[38;5;124mlines.linestyle\u001b[39m\u001b[38;5;124m'\u001b[39m]\n\u001b[0;32m   3129\u001b[0m xlines \u001b[38;5;241m=\u001b[39m \u001b[38;5;28mself\u001b[39m\u001b[38;5;241m.\u001b[39mvlines \u001b[38;5;28;01mif\u001b[39;00m orientation \u001b[38;5;241m==\u001b[39m \u001b[38;5;124m\"\u001b[39m\u001b[38;5;124mvertical\u001b[39m\u001b[38;5;124m\"\u001b[39m \u001b[38;5;28;01melse\u001b[39;00m \u001b[38;5;28mself\u001b[39m\u001b[38;5;241m.\u001b[39mhlines\n\u001b[1;32m-> 3130\u001b[0m stemlines \u001b[38;5;241m=\u001b[39m xlines(\n\u001b[0;32m   3131\u001b[0m     locs, bottom, heads,\n\u001b[0;32m   3132\u001b[0m     colors\u001b[38;5;241m=\u001b[39mlinecolor, linestyles\u001b[38;5;241m=\u001b[39mlinestyle, label\u001b[38;5;241m=\u001b[39m\u001b[38;5;124m\"\u001b[39m\u001b[38;5;124m_nolegend_\u001b[39m\u001b[38;5;124m\"\u001b[39m)\n\u001b[0;32m   3134\u001b[0m \u001b[38;5;28;01mif\u001b[39;00m orientation \u001b[38;5;241m==\u001b[39m \u001b[38;5;124m'\u001b[39m\u001b[38;5;124mhorizontal\u001b[39m\u001b[38;5;124m'\u001b[39m:\n\u001b[0;32m   3135\u001b[0m     marker_x \u001b[38;5;241m=\u001b[39m heads\n",
      "File \u001b[1;32m~\\anaconda3\\Lib\\site-packages\\matplotlib\\__init__.py:1473\u001b[0m, in \u001b[0;36m_preprocess_data.<locals>.inner\u001b[1;34m(ax, data, *args, **kwargs)\u001b[0m\n\u001b[0;32m   1470\u001b[0m \u001b[38;5;129m@functools\u001b[39m\u001b[38;5;241m.\u001b[39mwraps(func)\n\u001b[0;32m   1471\u001b[0m \u001b[38;5;28;01mdef\u001b[39;00m \u001b[38;5;21minner\u001b[39m(ax, \u001b[38;5;241m*\u001b[39margs, data\u001b[38;5;241m=\u001b[39m\u001b[38;5;28;01mNone\u001b[39;00m, \u001b[38;5;241m*\u001b[39m\u001b[38;5;241m*\u001b[39mkwargs):\n\u001b[0;32m   1472\u001b[0m     \u001b[38;5;28;01mif\u001b[39;00m data \u001b[38;5;129;01mis\u001b[39;00m \u001b[38;5;28;01mNone\u001b[39;00m:\n\u001b[1;32m-> 1473\u001b[0m         \u001b[38;5;28;01mreturn\u001b[39;00m func(\n\u001b[0;32m   1474\u001b[0m             ax,\n\u001b[0;32m   1475\u001b[0m             \u001b[38;5;241m*\u001b[39m\u001b[38;5;28mmap\u001b[39m(sanitize_sequence, args),\n\u001b[0;32m   1476\u001b[0m             \u001b[38;5;241m*\u001b[39m\u001b[38;5;241m*\u001b[39m{k: sanitize_sequence(v) \u001b[38;5;28;01mfor\u001b[39;00m k, v \u001b[38;5;129;01min\u001b[39;00m kwargs\u001b[38;5;241m.\u001b[39mitems()})\n\u001b[0;32m   1478\u001b[0m     bound \u001b[38;5;241m=\u001b[39m new_sig\u001b[38;5;241m.\u001b[39mbind(ax, \u001b[38;5;241m*\u001b[39margs, \u001b[38;5;241m*\u001b[39m\u001b[38;5;241m*\u001b[39mkwargs)\n\u001b[0;32m   1479\u001b[0m     auto_label \u001b[38;5;241m=\u001b[39m (bound\u001b[38;5;241m.\u001b[39marguments\u001b[38;5;241m.\u001b[39mget(label_namer)\n\u001b[0;32m   1480\u001b[0m                   \u001b[38;5;129;01mor\u001b[39;00m bound\u001b[38;5;241m.\u001b[39mkwargs\u001b[38;5;241m.\u001b[39mget(label_namer))\n",
      "File \u001b[1;32m~\\anaconda3\\Lib\\site-packages\\matplotlib\\axes\\_axes.py:1253\u001b[0m, in \u001b[0;36mAxes.vlines\u001b[1;34m(self, x, ymin, ymax, colors, linestyles, label, **kwargs)\u001b[0m\n\u001b[0;32m   1251\u001b[0m masked_verts[:, \u001b[38;5;241m0\u001b[39m, \u001b[38;5;241m1\u001b[39m] \u001b[38;5;241m=\u001b[39m ymin\n\u001b[0;32m   1252\u001b[0m masked_verts[:, \u001b[38;5;241m1\u001b[39m, \u001b[38;5;241m0\u001b[39m] \u001b[38;5;241m=\u001b[39m x\n\u001b[1;32m-> 1253\u001b[0m masked_verts[:, \u001b[38;5;241m1\u001b[39m, \u001b[38;5;241m1\u001b[39m] \u001b[38;5;241m=\u001b[39m ymax\n\u001b[0;32m   1255\u001b[0m lines \u001b[38;5;241m=\u001b[39m mcoll\u001b[38;5;241m.\u001b[39mLineCollection(masked_verts, colors\u001b[38;5;241m=\u001b[39mcolors,\n\u001b[0;32m   1256\u001b[0m                              linestyles\u001b[38;5;241m=\u001b[39mlinestyles, label\u001b[38;5;241m=\u001b[39mlabel)\n\u001b[0;32m   1257\u001b[0m \u001b[38;5;28mself\u001b[39m\u001b[38;5;241m.\u001b[39madd_collection(lines, autolim\u001b[38;5;241m=\u001b[39m\u001b[38;5;28;01mFalse\u001b[39;00m)\n",
      "File \u001b[1;32m~\\anaconda3\\Lib\\contextlib.py:81\u001b[0m, in \u001b[0;36mContextDecorator.__call__.<locals>.inner\u001b[1;34m(*args, **kwds)\u001b[0m\n\u001b[0;32m     78\u001b[0m \u001b[38;5;129m@wraps\u001b[39m(func)\n\u001b[0;32m     79\u001b[0m \u001b[38;5;28;01mdef\u001b[39;00m \u001b[38;5;21minner\u001b[39m(\u001b[38;5;241m*\u001b[39margs, \u001b[38;5;241m*\u001b[39m\u001b[38;5;241m*\u001b[39mkwds):\n\u001b[0;32m     80\u001b[0m     \u001b[38;5;28;01mwith\u001b[39;00m \u001b[38;5;28mself\u001b[39m\u001b[38;5;241m.\u001b[39m_recreate_cm():\n\u001b[1;32m---> 81\u001b[0m         \u001b[38;5;28;01mreturn\u001b[39;00m func(\u001b[38;5;241m*\u001b[39margs, \u001b[38;5;241m*\u001b[39m\u001b[38;5;241m*\u001b[39mkwds)\n",
      "File \u001b[1;32m~\\anaconda3\\Lib\\site-packages\\numpy\\ma\\core.py:3387\u001b[0m, in \u001b[0;36mMaskedArray.__setitem__\u001b[1;34m(self, indx, value)\u001b[0m\n\u001b[0;32m   3384\u001b[0m     mval \u001b[38;5;241m=\u001b[39m \u001b[38;5;28mtuple\u001b[39m([\u001b[38;5;28;01mFalse\u001b[39;00m] \u001b[38;5;241m*\u001b[39m \u001b[38;5;28mlen\u001b[39m(_dtype\u001b[38;5;241m.\u001b[39mnames))\n\u001b[0;32m   3385\u001b[0m \u001b[38;5;28;01mif\u001b[39;00m _mask \u001b[38;5;129;01mis\u001b[39;00m nomask:\n\u001b[0;32m   3386\u001b[0m     \u001b[38;5;66;03m# Set the data, then the mask\u001b[39;00m\n\u001b[1;32m-> 3387\u001b[0m     _data[indx] \u001b[38;5;241m=\u001b[39m dval\n\u001b[0;32m   3388\u001b[0m     \u001b[38;5;28;01mif\u001b[39;00m mval \u001b[38;5;129;01mis\u001b[39;00m \u001b[38;5;129;01mnot\u001b[39;00m nomask:\n\u001b[0;32m   3389\u001b[0m         _mask \u001b[38;5;241m=\u001b[39m \u001b[38;5;28mself\u001b[39m\u001b[38;5;241m.\u001b[39m_mask \u001b[38;5;241m=\u001b[39m make_mask_none(\u001b[38;5;28mself\u001b[39m\u001b[38;5;241m.\u001b[39mshape, _dtype)\n",
      "\u001b[1;31mValueError\u001b[0m: could not broadcast input array from shape (7,) into shape (8,)"
     ]
    },
    {
     "data": {
      "image/png": "[encoded data removed]",
      "text/plain": [
       "<Figure size 640x480 with 1 Axes>"
      ]
     },
     "metadata": {},
     "output_type": "display_data"
    }
   ],
   "source": [
    "def draw_stem_plot(outcomes, probabilities, filename=\"test.pdf\"):\n",
    "    # Check if the probabilities add up to 1\n",
    "    if sum(probabilities) != 1:\n",
    "        raise ValueError(\"The probabilities should add up to 1\")\n",
    "\n",
    "    plt.stem(outcomes, probabilities, basefmt=\" \")\n",
    "    plt.xlabel(\"Uitkomst $x$\")\n",
    "    plt.ylabel(\"Kansfunctie $P(X = x)$\")\n",
    "    plt.title(\"Naalddiagram van discrete kansvariabele\")\n",
    "    plt.savefig(filename)\n",
    "\n",
    "def compute_expected_value(probability_dict):\n",
    "    return sum(k * v for (k, v) in probability_dict.items())\n",
    "\n",
    "def compute_variance(probability_dict):\n",
    "    mean = compute_expected_value(probability_dict)\n",
    "    return sum((k - mean) ** 2 * v for (k, v) in probability_dict.items())\n",
    "\n",
    "def compute_standard_deviation(probability_dict):\n",
    "    variance = compute_variance(probability_dict)\n",
    "    return sqrt(variance)\n",
    "\n",
    "\n",
    "\n",
    "# --- Extra kansberekeningen ---\n",
    "def P_equals(probability_dict, k):\n",
    "    \"\"\"Kans dat X exact k is\"\"\"\n",
    "    if k in probability_dict:\n",
    "        return probability_dict[k]\n",
    "    else:\n",
    "        return 0.0\n",
    "\n",
    "def P_leq(probability_dict, k):\n",
    "    \"\"\"Kans dat X <= k\"\"\"\n",
    "    prob = 0\n",
    "    for key in probability_dict:\n",
    "        if key <= k:\n",
    "            prob += probability_dict[key]\n",
    "    return prob\n",
    "\n",
    "def P_geq(probability_dict, k):\n",
    "    \"\"\"Kans dat X >= k\"\"\"\n",
    "    prob = 0\n",
    "    for key in probability_dict:\n",
    "        if key >= k:\n",
    "            prob += probability_dict[key]\n",
    "    return prob\n",
    "\n",
    "# Voorbeeld: aantal bloedunits per soldaat\n",
    "outcomes = [0, 1, 2, 3, 4, 5, 6, 7]\n",
    "probabilities = [0.06, 0.13, 0.16, 0.11, 0.32, 0.16, 0.06]\n",
    "probability_dict = {k: v for (k, v) in zip(outcomes, probabilities)}\n",
    "\n",
    "\n",
    "# --- Verwachtingswaarde en standaardafwijking ---\n",
    "expected_value = compute_expected_value(probability_dict)\n",
    "variance = compute_variance(probability_dict)\n",
    "std_dev = compute_standard_deviation(probability_dict)\n",
    "\n",
    "print(f\"Verwachtingswaarde: $E[X] = {expected_value:.2f}$\")\n",
    "print(f\"Standaardafwijking: $\\\\sigma={std_dev:.2f}$\")\n",
    "\n",
    "k = 2\n",
    "print(f\"P(X = {k}) = {P_equals(probability_dict, k):.3f}\")\n",
    "print(f\"P(X <= {k}) = {P_leq(probability_dict, k):.3f}\")\n",
    "print(f\"P(X >= {k}) = {P_geq(probability_dict, k):.3f}\")\n",
    "\n",
    "draw_stem_plot(outcomes, probabilities)"
   ]
  },
  {
   "cell_type": "code",
   "execution_count": null,
   "id": "f1fdbbe9-b696-4ad1-920e-3bc16f3a9b90",
   "metadata": {},
   "outputs": [],
   "source": []
  }
 ],
 "metadata": {
  "kernelspec": {
   "display_name": "Python [conda env:base] *",
   "language": "python",
   "name": "conda-base-py"
  },
  "language_info": {
   "codemirror_mode": {
    "name": "ipython",
    "version": 3
   },
   "file_extension": ".py",
   "mimetype": "text/x-python",
   "name": "python",
   "nbconvert_exporter": "python",
   "pygments_lexer": "ipython3",
   "version": "3.12.3"
  }
 },
 "nbformat": 4,
 "nbformat_minor": 5
}
