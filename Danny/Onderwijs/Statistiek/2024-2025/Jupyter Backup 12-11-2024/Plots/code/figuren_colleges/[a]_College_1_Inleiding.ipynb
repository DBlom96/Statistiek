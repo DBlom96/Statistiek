{
 "cells": [
  {
   "cell_type": "code",
   "execution_count": null,
   "id": "eb2301f2-b5d0-4be5-bc0d-83a1b7df2865",
   "metadata": {},
   "outputs": [],
   "source": []
  }
 ],
 "metadata": {
  "kernelspec": {
   "display_name": "Python [conda env:statistiek]",
   "language": "python",
   "name": "conda-env-statistiek-py"
  },
  "language_info": {
   "codemirror_mode": {
    "name": "ipython",
    "version": 3
   },
   "file_extension": ".py",
   "mimetype": "text/x-python",
   "name": "python",
   "nbconvert_exporter": "python",
   "pygments_lexer": "ipython3",
   "version": "3.11.9"
  }
 },
 "nbformat": 4,
 "nbformat_minor": 5
}
