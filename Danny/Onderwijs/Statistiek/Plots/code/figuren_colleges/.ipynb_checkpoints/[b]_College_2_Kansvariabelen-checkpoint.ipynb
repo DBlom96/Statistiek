{
 "cells": [
  {
   "cell_type": "markdown",
   "id": "7a5a3374-b535-4b2a-9a7d-e068aa7b7e92",
   "metadata": {
    "tags": []
   },
   "source": [
    "# College 2: Discrete en Continue Kansvariabelen\n",
    "\n",
    "## Overzicht\n",
    "In dit college gaan we:\n",
    "- Het verschil tussen **discrete** en **continue** kansvariabelen uitleggen.\n",
    "- Begrippen als **kansfunctie** en **kansdichtheidsfunctie** introduceren.\n",
    "- Bespreken hoe je kansen, verwachtingswaarde en variantie kunt berekenen voor discrete en continue kansverdelingen."
   ]
  },
  {
   "cell_type": "markdown",
   "id": "6a16d0a2-5018-4764-b587-210d66059f6c",
   "metadata": {
    "tags": []
   },
   "source": [
    "## Leerdoelen\n",
    "Na dit college kun je:\n",
    "1. Het verschil tussen een discrete en continue kansvariabele uitleggen.\n",
    "2. De kansfunctie en kansdichtheidsfunctie interpreteren en gebruiken.\n",
    "3. De verwachtingswaarde en variantie berekenen voor verschillende kansverdelingen."
   ]
  },
  {
   "cell_type": "markdown",
   "id": "452b369c-355c-44ad-b8cb-7ac71f297fb2",
   "metadata": {
    "tags": []
   },
   "source": [
    "## 1. Inleiding tot Kansvariabelen\n",
    "\n",
    "Een **kansvariabele** is een variabele die waarden aanneemt op basis van de uitkomst van een kansexperiment. Kansvariabelen kunnen worden onderverdeeld in:\n",
    "- **Discrete kansvariabelen**: nemen een eindig of aftelbaar aantal waarden aan.\n",
    "- **Continue kansvariabelen**: nemen oneindig veel waarden aan binnen een bepaald interval.\n",
    "\n",
    "In dit college zullen we deze concepten verder onderzoeken."
   ]
  },
  {
   "cell_type": "markdown",
   "id": "c290d5fc-03a2-490d-a1c9-4c98fee3dd18",
   "metadata": {},
   "source": [
    "## 2. Discrete Kansvariabelen\n",
    "\n",
    "### Voorbeeld en Definities\n",
    "\n",
    "Discrete kansvariabelen kunnen slechts specifieke waarden aannemen (zoals 0, 1, 2, ...). Voor een discrete kansvariabele gebruiken we een **kansfunctie** om de waarschijnlijkheid van elke mogelijke waarde te beschrijven.\n",
    "\n",
    "#### Kansfunctie\n",
    "De **kansfunctie** van een discrete kansvariabele \\( X \\), genoteerd als \\( P(X = x) \\), geeft de kans dat \\( X \\) precies de waarde \\( x \\) aanneemt.\n",
    "\n",
    "### Code Voorbeeld: Kansfunctie voor een Discrete Kansvariabele\n",
    "\n",
    "Hieronder berekenen we de kansen voor een discrete kansvariabele die bijvoorbeeld het aantal keer \"kop\" geeft bij drie worpen van een eerlijke munt.\n",
    "\n",
    "Om onderstaande codecel uit te voeren, klik met je muis ergens binnen het codeblock en druk daarna op \"shift+enter\""
   ]
  },
  {
   "cell_type": "code",
   "execution_count": 76,
   "id": "ea9bb1a3-5794-401e-bbda-830d634aaba5",
   "metadata": {
    "tags": []
   },
   "outputs": [
    {
     "data": {
      "application/vnd.jupyter.widget-view+json": {
       "model_id": "53708b8372c44cf98f93b0e9f3c6196c",
       "version_major": 2,
       "version_minor": 0
      },
      "text/plain": [
       "interactive(children=(IntSlider(value=10, description='n', max=50, min=1), FloatSlider(value=0.5, description=…"
      ]
     },
     "metadata": {},
     "output_type": "display_data"
    },
    {
     "data": {
      "text/plain": [
       "<function __main__.plot_binomiale_verdeling(n, p)>"
      ]
     },
     "execution_count": 76,
     "metadata": {},
     "output_type": "execute_result"
    }
   ],
   "source": [
    "import numpy as np\n",
    "import matplotlib.pyplot as plt\n",
    "from scipy.stats import binom\n",
    "import ipywidgets as widgets\n",
    "\n",
    "def plot_binomiale_verdeling(n, p):\n",
    "    x = np.arange(0, n+1)  # Mogelijke waarden van k\n",
    "    y = binom.pmf(x, n, p)  # Bereken de waarschijnlijkheid voor elke waarde van k\n",
    "    \n",
    "    plt.figure(figsize=(10, 6))\n",
    "    plt.stem(x, y, linefmt='skyblue', markerfmt='bo', basefmt='black')    \n",
    "    plt.title(f'Kansfunctie voor de binomiale verdeling (n={n}, p={p:.2f})')\n",
    "    plt.xlabel(r'$k$')\n",
    "    plt.ylabel(r'Kans $\\mathbb{P}(K = k)$')\n",
    "    \n",
    "    plt.ylim(0, 1.1 * max(y))\n",
    "    plt.grid(axis='y', linestyle='--', alpha=0.7)\n",
    "    plt.show()\n",
    "\n",
    "# Sliders voor n en p\n",
    "n_slider = widgets.IntSlider(value=10, min=1, max=50, step=1, description='n')\n",
    "p_slider = widgets.FloatSlider(value=0.5, min=0, max=1, step=0.01, description='p')\n",
    "\n",
    "# Interactieve plot\n",
    "widgets.interact(plot_binomiale_verdeling, n=n_slider, p=p_slider)"
   ]
  },
  {
   "cell_type": "markdown",
   "id": "4296f007-b861-4f23-81a8-b933a753136e",
   "metadata": {
    "tags": []
   },
   "source": [
    "### Uitleg code\n",
    "In de bovenstaande code hebben we een interactieve plot gecreerd met sliders voor de parameters $n$ en $p$ voor de binomiale verdeling. Hiermee kun je door te schuiven met de sliders zien wat de effecten zijn van beide parameters op de kansverdeling. De situatie met $p = \\frac{1}{2}$ kun je gebruiken om een kansverdeling te vinden voor $k=0,1,2,3$ keer \"kop\" als je $n$ keer een zuivere munt opgooit. "
   ]
  },
  {
   "cell_type": "markdown",
   "id": "a84a79cc-ead3-45db-b571-ffdc4153cc76",
   "metadata": {
    "tags": []
   },
   "source": [
    "## 3. Continue Kansvariabelen\n",
    "\n",
    "### Voorbeeld en Definities\n",
    "\n",
    "Continue kansvariabelen kunnen elke waarde aannemen binnen een bepaald interval (bijvoorbeeld elke reele waarde tussen 0 en 1).\n",
    "Voor continue kansvariabelen gebruiken we een **kansdichtheidsfunctie** of in het Engels **probability density function (pdf)** in plaats van een kansfunctie.\n",
    "\n",
    "#### Kansdichtheidsfunctie\n",
    "Een **kansdichtheidsfunctie $f(x)$** geeft de relatieve waarschijnlijkheid van elke waarde binnen een continu bereik. \n",
    "Let op dat de kans voor een enkele specifieke waarde in een continue verdeling gelijk aan nul is; in plaats daarvan berekenen we kansen over intervallen.\n",
    "\n",
    "### Code voorbeeld: kansdichtheidsfunctie voor een continue kansvariable\n",
    "Hieronder plotten we de kansdichtheidsfunctie van een normale verdeling met gemiddelde $\\mu = 0$ en standaardafwijking $\\sigma=1$"
   ]
  },
  {
   "cell_type": "code",
   "execution_count": 75,
   "id": "38fcc300-3555-4619-98b4-18102653dad5",
   "metadata": {
    "tags": []
   },
   "outputs": [
    {
     "data": {
      "application/vnd.jupyter.widget-view+json": {
       "model_id": "fe13a82a11774f94a16175f506d789e7",
       "version_major": 2,
       "version_minor": 0
      },
      "text/plain": [
       "interactive(children=(IntSlider(value=0, description='$\\\\mu$', max=10, min=-10), FloatSlider(value=1.0, descri…"
      ]
     },
     "metadata": {},
     "output_type": "display_data"
    },
    {
     "data": {
      "text/plain": [
       "<function __main__.plot_normale_verdeling(mu, sigma)>"
      ]
     },
     "execution_count": 75,
     "metadata": {},
     "output_type": "execute_result"
    }
   ],
   "source": [
    "import numpy as np\n",
    "import matplotlib.pyplot as plt\n",
    "from scipy.stats import norm\n",
    "import ipywidgets as widgets\n",
    "from ipywidgets import interact\n",
    "\n",
    "# Functie om de normale verdeling te plotten\n",
    "def plot_normale_verdeling(mu, sigma):\n",
    "    x = np.linspace(mu - 4*sigma, mu + 4*sigma, 1000)  # x-waarden rond het gemiddelde\n",
    "    y = norm.pdf(x, mu, sigma)  # Waarschijnlijkheidsdichtheid\n",
    "    \n",
    "    plt.figure(figsize=(10, 6))\n",
    "    plt.plot(x, y, color='skyblue')\n",
    "    plt.title(f'Kansdichtheid voor normale verdeling ($\\mu={mu}$, $\\sigma={sigma:.2f}$)')\n",
    "    plt.xlabel(r'$x$')\n",
    "    plt.ylabel(r'Kansdichtheid $f(x)$')\n",
    "    plt.ylim(0, 0.5)\n",
    "    plt.grid(axis='y', linestyle='--', alpha=0.7)\n",
    "    plt.show()\n",
    "\n",
    "# Sliders voor mu en sigma\n",
    "mu_slider = widgets.IntSlider(value=0, min=-10, max=10, step=1, description=r'$\\mu$')\n",
    "sigma_slider = widgets.FloatSlider(value=1, min=0.1, max=10, step=0.1, description=r'$\\sigma$')\n",
    "\n",
    "# Interactieve plot\n",
    "interact(plot_normale_verdeling, mu=mu_slider, sigma=sigma_slider)"
   ]
  },
  {
   "cell_type": "markdown",
   "id": "e9d59ad5-0074-4834-bc5b-b556e75a06dd",
   "metadata": {
    "tags": []
   },
   "source": [
    "### Uitleg code\n",
    "De code hierboven toont een interactieve plot van de kansdichtheidsfunctie voor een normale verdeling. Hier zien we dat de kansdichtheid rond het gemiddelde $\\mu$ het hoogst is, wat duidt op een grotere kans om waarden dicht bij het gemiddelde te observeren. Zodra de standaardafwijking $\\sigma$ stijgt, wordt de belkromme meer uitgespreid en platter."
   ]
  },
  {
   "cell_type": "markdown",
   "id": "bdd3299c-12be-4b01-bb7a-838819dcc5e2",
   "metadata": {},
   "source": [
    "## Kansen, verwachtingswaarde en variantie berekenen\n",
    "\n",
    "### Verwachtingswaarde en Variantie van een Discrete Kansvariabele\n",
    "De **verwachtingswaarde** $\\mathbb{E}[\\underline{k}]$ en de **variantie** $\\textrm{Var}(\\underline{k})$ van een discrete kansvariabele $\\underline{k}$ kunnen als volgt worden berekend:\n",
    "\n",
    "\\begin{align}\n",
    "\\mathbb{E}[\\underline{k}]&=\\sum\\limits_k k \\cdot P(\\underline{k}=k)\\\\\n",
    "\\textrm{Var}(\\underline{k})&= \\sum\\limits_k \\left(k - E[\\underline{k}]\\right)^2 \\cdot P(\\underline{k}=k)\n",
    "\\end{align}\n",
    "\n",
    "#### Code Voorbeeld\n",
    "Hier berekenen we de verwachtingswaarde en variantie van onze eerdere binomiale verdeling."
   ]
  },
  {
   "cell_type": "code",
   "execution_count": 87,
   "id": "fa8baefd-5b6b-4b42-ba44-feaca7a1c43c",
   "metadata": {
    "tags": []
   },
   "outputs": [
    {
     "name": "stdout",
     "output_type": "stream",
     "text": [
      "Verwachtingswaarde E[X]: 24.999999999999986\n",
      "Variantie Var(X): 12.499999999999996\n"
     ]
    }
   ],
   "source": [
    "# Verwachtingswaarde en variantie berekenen\n",
    "n = 50\n",
    "p = 0.5\n",
    "k_binomiaal = np.arange(0, n+1)  # Mogelijke waarden van k\n",
    "kansen_binomiaal = binom.pmf(k_binomiaal, n, p)  # Bereken de waarschijnlijkheid voor elke waarde van k\n",
    "\n",
    "verwachtingswaarde = np.sum(k_binomiaal * kansen_binomiaal)\n",
    "variantie = np.sum((x_binomiaal - verwachtingswaarde)**2 * kansen_binomiaal)\n",
    "\n",
    "print(f\"Verwachtingswaarde E[X]: {verwachtingswaarde}\")\n",
    "print(f\"Variantie Var(X): {variantie}\")"
   ]
  },
  {
   "cell_type": "markdown",
   "id": "8d7682d0-7680-44fe-8880-a6b1551fd640",
   "metadata": {
    "tags": []
   },
   "source": [
    "Merk op dat met de `scipy.stats`-bibliotheek deze berekening kan worden opgelost met behulp van de functies `binom.mean` en `binom.var`"
   ]
  },
  {
   "cell_type": "code",
   "execution_count": 88,
   "id": "90276f24-a1d7-4c2e-844c-d81edb7b1021",
   "metadata": {
    "tags": []
   },
   "outputs": [
    {
     "name": "stdout",
     "output_type": "stream",
     "text": [
      "Verwachtingswaarde E[X]: 25.0\n",
      "Variantie Var(X): 12.5\n"
     ]
    }
   ],
   "source": [
    "verwachtingswaarde = binom.mean(n=n, p=p)\n",
    "variantie = binom.var(n=n, p=p)\n",
    "\n",
    "print(f\"Verwachtingswaarde E[X]: {verwachtingswaarde}\")\n",
    "print(f\"Variantie Var(X): {variantie}\")"
   ]
  },
  {
   "cell_type": "markdown",
   "id": "ca2d03d2-2535-4c4f-9188-9f3383e27ccc",
   "metadata": {},
   "source": [
    "### Verwachtingswaarde en Variantie van een Continue Kansvariabele\n",
    "Voor continue kansvariabelen $\\underline{x}$ wordt de verwachtingswaarde $\\mathbb{E}[\\underline{x}]$ en de variantie $\\textrm{Var}(\\underline{x})$ berekend door te integreren over de kansdichtheidsfunctie:\n",
    "\\begin{align}\n",
    "\\mathbb{E}[\\underline{x}]&=\\int x \\cdot f(x) dx \\\\\n",
    "\\textrm{Var}(\\underline{x})&= \\int (x - E[\\underline{x}])^2 f(x) dx\n",
    "\\end{align}\n",
    "De `scipy`-bibliotheek biedt methodes om deze integralen numeriek te benaderen, bijvoorbeeld met behulp van de functie `quad` uit de `scipy.integrate` module.\n",
    "Hier berekenen we de verwachtingswaarde en variantie van onze eerdere normale verdeling."
   ]
  },
  {
   "cell_type": "markdown",
   "id": "94726e7b-7b6a-44a7-b7e3-0c88350f4ce6",
   "metadata": {},
   "source": [
    "#### Code Voorbeeld\n",
    "Hier berekenen we de verwachtingswaarde en variantie van een continue kansvariabele $\\underline{x}$ waarvoor de kansdichtheidsfunctie $f(x)$ is gedefinieerd als:\n",
    "$$\n",
    "f(x) = \\begin{cases}\n",
    "10\\cdot e^{-10\\cdot x} & \\text{als } x > 0 \\\\\n",
    "0 & \\text{anders.}\n",
    "\\end{cases}\n",
    "$$"
   ]
  },
  {
   "cell_type": "code",
   "execution_count": 93,
   "id": "c6d3345f-61ad-4816-b471-778e1e9826f2",
   "metadata": {
    "tags": []
   },
   "outputs": [
    {
     "name": "stdout",
     "output_type": "stream",
     "text": [
      "Verwachtingswaarde (E(X)): 0.09999999999999999\n",
      "Variantie (Var(X)): 0.010000000000000004\n"
     ]
    }
   ],
   "source": [
    "from scipy.integrate import quad\n",
    "import math\n",
    "\n",
    "# Verwachtingswaarde en variantie berekenen\n",
    "mu = 0\n",
    "sigma = 1\n",
    "\n",
    "# Kansdichtheidsfunctie zoals hierboven gedefinieerd\n",
    "pdf = lambda x: 10*math.exp(-10*x) if x > 0 else 0\n",
    "\n",
    "# Verwachtingswaarde: E(X)\n",
    "expected_value, _ = quad(lambda x: x * pdf(x), -np.inf, np.inf)\n",
    "\n",
    "# Variantie: Var(X)\n",
    "variance, _ = quad(lambda x: (x - expected_value)**2 * pdf(x), -np.inf, np.inf)\n",
    "\n",
    "print(f\"Verwachtingswaarde (E(X)): {expected_value}\")\n",
    "print(f\"Variantie (Var(X)): {variance}\")"
   ]
  },
  {
   "cell_type": "markdown",
   "id": "665eb9a1-d3c4-4296-928a-99e6a4d5907c",
   "metadata": {
    "tags": []
   },
   "source": [
    "## 5. Oefening (optioneel)\n",
    "\n",
    "### Oefening\n",
    "1. Pas de parameters $n$ en $p$ in de binomiale verdeling aan en observeer hoe de kansfunctie verandert.\n",
    "2. Plot de kansdichtheidsfunctie van een normale verdeling met verschillende waarden voor $\\mu$ en $\\sigma$"
   ]
  },
  {
   "cell_type": "markdown",
   "id": "8643e3fb-00ac-45e8-b7cb-32a6efeb1fb9",
   "metadata": {
    "tags": []
   },
   "source": [
    "## 6. Samenvatting\n",
    "- Discrete kansvariabelen nemen specifieke waarden aan, met een kansfunctie om de kansen te beschrijven.\n",
    "- Continue kansvariabelen nemen oneindig veel waarden binnen een interval, beschreven door een kansdichtheidsfunctie.\n",
    "- De verwachtingswaarde en variantie zijn belangrijke eigenschappen van zowel discrete als continue kansvariabelen en kunnen worden berekend met respectievelijk sommen of integralen."
   ]
  },
  {
   "cell_type": "code",
   "execution_count": null,
   "id": "13bae81f-6daa-45e5-abbc-7f68365e1a4d",
   "metadata": {},
   "outputs": [],
   "source": []
  }
 ],
 "metadata": {
  "kernelspec": {
   "display_name": "Python [conda env:statistiek]",
   "language": "python",
   "name": "conda-env-statistiek-py"
  },
  "language_info": {
   "codemirror_mode": {
    "name": "ipython",
    "version": 3
   },
   "file_extension": ".py",
   "mimetype": "text/x-python",
   "name": "python",
   "nbconvert_exporter": "python",
   "pygments_lexer": "ipython3",
   "version": "3.11.9"
  }
 },
 "nbformat": 4,
 "nbformat_minor": 5
}
