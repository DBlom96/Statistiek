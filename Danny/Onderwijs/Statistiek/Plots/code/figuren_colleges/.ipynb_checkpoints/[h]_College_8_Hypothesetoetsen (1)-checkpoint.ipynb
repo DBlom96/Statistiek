{
 "cells": [
  {
   "cell_type": "code",
   "execution_count": 78,
   "id": "7c069d25-2cff-4a5b-b26d-e61f6e9e22be",
   "metadata": {},
   "outputs": [
    {
     "data": {
      "application/vnd.jupyter.widget-view+json": {
       "model_id": "084999cf950f43419c7da3c3f2baddf6",
       "version_major": 2,
       "version_minor": 0
      },
      "text/plain": [
       "interactive(children=(FloatSlider(value=13.0, description='$\\\\mu_1$', max=16.0, min=4.0), FloatSlider(value=0.…"
      ]
     },
     "metadata": {},
     "output_type": "display_data"
    },
    {
     "data": {
      "text/plain": [
       "<function __main__.plot_hypothesis(mu_1, alpha, n)>"
      ]
     },
     "execution_count": 78,
     "metadata": {},
     "output_type": "execute_result"
    }
   ],
   "source": [
    "import numpy as np\n",
    "import matplotlib.pyplot as plt\n",
    "from scipy.stats import norm\n",
    "from ipywidgets import interact, IntSlider, FloatSlider\n",
    "\n",
    "# Parameters\n",
    "mu_0 = 10\n",
    "sigma = 2   # Standaardafwijking van de populatie\n",
    "\n",
    "# Functie om de interactieve plot te genereren\n",
    "def plot_hypothesis(mu_1, alpha, n):\n",
    "    # x-waarden voor de plot\n",
    "    min_mu = min(mu_0, mu_1)\n",
    "    max_mu = max(mu_0, mu_1)\n",
    "    \n",
    "    if mu_1 >= mu_0:\n",
    "        x = np.linspace( mu_0 - (mu_1 - mu_0) - 4*sigma, mu_0 + (mu_1 - mu_0) + 4*sigma, 500)\n",
    "    else:\n",
    "        x = np.linspace( mu_0 - (mu_0 - mu_1) - 4*sigma, mu_0 + (mu_0 - mu_1) + 4*sigma, 500)\n",
    "    \n",
    "    xmin, xmax = x[0], x[-1]\n",
    "    \n",
    "    # Verwachting en standaardfout onder H0 en H1\n",
    "    se = sigma / np.sqrt(n)\n",
    "    \n",
    "    # Kansdichtheidsfuncties onder H0 en H1\n",
    "    pdf_H0 = norm.pdf(x, mu_0, se)\n",
    "    pdf_H1 = norm.pdf(x, mu_1, se)\n",
    "    \n",
    "    ymax = max(pdf_H0)\n",
    "    \n",
    "    # Kritieke waarde onder H0 (voor tweezijdige toets)\n",
    "    z_alpha = norm.ppf(1 - alpha / 2)\n",
    "    critical_value_right = mu_0 + z_alpha * se\n",
    "    critical_value_left = mu_0 - z_alpha * se\n",
    "\n",
    "    # Plot instellen\n",
    "    fig, ax = plt.subplots(figsize=(10, 6))\n",
    "    \n",
    "    # Plot de kansdichtheidsfuncties onder de nul- en alternatieve hypothese\n",
    "    ax.plot(x, pdf_H0, 'blue', label=f'$H_0$: $\\mu = {mu_0:.1f}$', alpha=0.7)\n",
    "    ax.plot(x, pdf_H1, 'red', label=f'$H_1$: $\\mu = {mu_1:.1f}$', ls='--', alpha=0.7)\n",
    "        \n",
    "    # Shade voor type I fout gebieden (alpha, kritieke gebieden)\n",
    "    ax.fill_between(x, 0, pdf_H0, where=((x > critical_value_right)|(x<critical_value_left)), color='blue', alpha=0.2, label=r'Type I fout ($\\alpha$): ' + f'{alpha:.3f}')\n",
    "    \n",
    "    # Shade voor type II fout gebied (beta) onder H1\n",
    "    type_two_error = norm.cdf(critical_value_right, mu_1, sigma) - norm.cdf(critical_value_left, mu_1, sigma)\n",
    "    ax.fill_between(x, 0, pdf_H1, where=((x < critical_value_right) & (x > critical_value_left)), color='red', alpha=0.2, label=r'Type II fout ($\\beta$): ' + f'{type_two_error:.3f}')\n",
    "    \n",
    "    # Labels en plot details\n",
    "    ax.plot([critical_value_left, critical_value_left], [0, norm.pdf(critical_value_left, mu_0, se)], color='black', linestyle='--')#, label='Kritieke grens links')\n",
    "    ax.plot([critical_value_right, critical_value_right], [0, norm.pdf(critical_value_right, mu_0, se)], color='black', linestyle='--')#, label='Kritieke grens rechts')\n",
    "    \n",
    "    # Draw horizontal lines indicating the regions\n",
    "    ypos = -0.1 * ymax  # Position for the horizontal line\n",
    "\n",
    "    # Accept region (left of the Kritieke waarde)\n",
    "    ax.hlines(0.5*ypos, critical_value_left, critical_value_right, color='green', linewidth=5)\n",
    "    ax.text((critical_value_left + critical_value_right) / 2, ypos, 'Accepteer $H_0$', color='green', fontsize=11, ha='center')\n",
    "    \n",
    "    # Reject region (right of the Kritieke waarde)\n",
    "    ax.hlines(.5*ypos, xmin, critical_value_left, color='red', linewidth=5)\n",
    "    ax.hlines(.5*ypos, critical_value_right, xmax, color='red', linewidth=5)\n",
    "    ax.text((critical_value_left + xmin) / 2, ypos, 'Verwerp $H_0$', color='red', fontsize=11, ha='center')\n",
    "    ax.text((critical_value_right + xmax) / 2, ypos, 'Verwerp $H_0$', color='red', fontsize=11, ha='center')\n",
    "    \n",
    "    ax.set_ylim(bottom=1.5*ypos)\n",
    "    ax.set_title('Hypothesetoets met type I en type II fouten')\n",
    "    ax.set_xlabel(r'Waarde van steekproefgemiddelde $\\overline{x}$')\n",
    "    ax.set_ylabel(r'Kansdichtheid $f(x)$')\n",
    "    plt.legend()\n",
    "    plt.show()\n",
    "\n",
    "# Interactieve slider voor mu_alternatief en alpha\n",
    "interact(plot_hypothesis, \n",
    "         mu_1=FloatSlider(value=mu_0+3, min=mu_0-3*sigma, max=mu_0+3*sigma, step=0.1, description='$\\mu_1$'),\n",
    "         alpha=FloatSlider(value=0.05, min=0.001, max=0.1, step=0.001, description=r'$\\alpha$'),\n",
    "         n=IntSlider(value=10, min=1, max=50, step=1, description=r'$n$')\n",
    ")\n"
   ]
  },
  {
   "cell_type": "code",
   "execution_count": null,
   "id": "39f88e87-71f6-431e-ac7b-4e1790d5d830",
   "metadata": {},
   "outputs": [],
   "source": []
  }
 ],
 "metadata": {
  "kernelspec": {
   "display_name": "Python [conda env:statistiek]",
   "language": "python",
   "name": "conda-env-statistiek-py"
  },
  "language_info": {
   "codemirror_mode": {
    "name": "ipython",
    "version": 3
   },
   "file_extension": ".py",
   "mimetype": "text/x-python",
   "name": "python",
   "nbconvert_exporter": "python",
   "pygments_lexer": "ipython3",
   "version": "3.11.9"
  }
 },
 "nbformat": 4,
 "nbformat_minor": 5
}
