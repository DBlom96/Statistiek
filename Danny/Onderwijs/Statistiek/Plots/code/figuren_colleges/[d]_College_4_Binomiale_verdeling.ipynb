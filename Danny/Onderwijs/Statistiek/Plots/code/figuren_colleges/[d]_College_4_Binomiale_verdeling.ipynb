{
 "cells": [
  {
   "cell_type": "code",
   "execution_count": 1,
   "id": "fef35631-830c-42e3-95b7-72b734e24968",
   "metadata": {},
   "outputs": [
    {
     "data": {
      "application/vnd.jupyter.widget-view+json": {
       "model_id": "0f8dddb2ebf44de2a3f6e6aac3a40252",
       "version_major": 2,
       "version_minor": 0
      },
      "text/plain": [
       "interactive(children=(IntSlider(value=20, description='n (aantal trials)', min=5, step=5), FloatSlider(value=0…"
      ]
     },
     "metadata": {},
     "output_type": "display_data"
    },
    {
     "data": {
      "text/plain": [
       "<function __main__.plot_binom_normal_approx(n, p)>"
      ]
     },
     "execution_count": 1,
     "metadata": {},
     "output_type": "execute_result"
    }
   ],
   "source": [
    "import numpy as np\n",
    "import matplotlib.pyplot as plt\n",
    "from scipy.stats import binom, norm\n",
    "from ipywidgets import interact, IntSlider, FloatSlider\n",
    "\n",
    "# Functie om de plot te genereren\n",
    "def plot_binom_normal_approx(n, p):\n",
    "    # Berekeningen voor de binomiale verdeling\n",
    "    x = np.arange(0, n + 1)\n",
    "    binom_pmf = binom.pmf(x, n, p)\n",
    "    \n",
    "    # Parameters voor de normale benadering\n",
    "    mu = n * p\n",
    "    sigma = np.sqrt(n * p * (1 - p))\n",
    "    \n",
    "    # Waarden voor de continue normale verdeling\n",
    "    x_norm = np.linspace(0, n, 100)\n",
    "    normal_pdf = norm.pdf(x_norm, mu, sigma)\n",
    "    \n",
    "    # Plot instellen\n",
    "    plt.figure(figsize=(10, 6))\n",
    "    \n",
    "    # Plot de binomiale PMF als staafdiagram\n",
    "    plt.bar(x, binom_pmf, color='blue', alpha=0.6, label=f'Binomiale PMF (n={n}, p={p})', width=0.8, align='center')\n",
    "    \n",
    "    # Plot de normale benadering\n",
    "    plt.plot(x_norm, normal_pdf, color='red', label=f'Normale benadering (μ={mu:.1f}, σ={sigma:.1f})')\n",
    "    \n",
    "    # Labels en legenda\n",
    "    plt.xlabel('Aantal successen')\n",
    "    plt.ylabel('Kans')\n",
    "    plt.title('Binomiale verdeling en normale benadering')\n",
    "    plt.legend()\n",
    "    plt.grid(True)\n",
    "    plt.show()\n",
    "\n",
    "# Interactieve sliders voor n en p\n",
    "interact(plot_binom_normal_approx, \n",
    "         n=IntSlider(value=20, min=5, max=100, step=5, description='n (aantal trials)'), \n",
    "         p=FloatSlider(value=0.5, min=0.1, max=0.9, step=0.05, description='p (kans op succes)'))"
   ]
  },
  {
   "cell_type": "code",
   "execution_count": null,
   "id": "fe2533e1-cfbc-4470-bcdb-7bd489a53dc0",
   "metadata": {},
   "outputs": [],
   "source": []
  }
 ],
 "metadata": {
  "kernelspec": {
   "display_name": "Python [conda env:statistiek]",
   "language": "python",
   "name": "conda-env-statistiek-py"
  },
  "language_info": {
   "codemirror_mode": {
    "name": "ipython",
    "version": 3
   },
   "file_extension": ".py",
   "mimetype": "text/x-python",
   "name": "python",
   "nbconvert_exporter": "python",
   "pygments_lexer": "ipython3",
   "version": "3.11.9"
  }
 },
 "nbformat": 4,
 "nbformat_minor": 5
}
