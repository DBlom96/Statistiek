{
 "cells": [
  {
   "cell_type": "code",
   "execution_count": 56,
   "id": "6ea3eacb-4383-4982-9591-e109b33ea1a0",
   "metadata": {},
   "outputs": [
    {
     "data": {
      "application/vnd.jupyter.widget-view+json": {
       "model_id": "be309dc1e8784f6bb9dc24b4c8e8e21b",
       "version_major": 2,
       "version_minor": 0
      },
      "text/plain": [
       "interactive(children=(Dropdown(description='Verdeling:', options=('normale', 'uniforme', 'exponentieel', 'chi-…"
      ]
     },
     "metadata": {},
     "output_type": "display_data"
    },
    {
     "data": {
      "text/plain": [
       "<function __main__.plot_clt(dist_name, aantal_steekproeven, steekproefgrootte)>"
      ]
     },
     "execution_count": 56,
     "metadata": {},
     "output_type": "execute_result"
    }
   ],
   "source": [
    "import numpy as np\n",
    "import matplotlib.pyplot as plt\n",
    "from scipy.stats import norm, uniform, expon, chi2, t, binom, poisson\n",
    "from ipywidgets import interact, IntSlider, Dropdown\n",
    "\n",
    "# Functie om steekproefgemiddelden te genereren voor verschillende verdelingen\n",
    "def generate_sample_means(dist_name, sample_size, num_samples=100_000):\n",
    "    loc, scale = 0, 1\n",
    "    if dist_name == \"normale\":\n",
    "        samples = norm.rvs(loc=loc, scale=scale, size=(num_samples, sample_size))\n",
    "    elif dist_name == \"uniforme\":\n",
    "        samples = uniform.rvs(loc=loc, scale=scale, size=(num_samples, sample_size))\n",
    "    elif dist_name == r\"exponentieel\":\n",
    "        samples = expon.rvs(size=(num_samples, sample_size))\n",
    "    elif dist_name == r\"$\\chi^2$\":\n",
    "        samples = chi2.rvs(df=2, size=(num_samples, sample_size))  # Vrijheidsgraden = 2\n",
    "    elif dist_name == r\"Student's $t$\":\n",
    "        samples = t.rvs(df=5, size=(num_samples, sample_size))     # Vrijheidsgraden = 5\n",
    "    elif dist_name == \"binomiaal\":\n",
    "        samples = binom.rvs(n=10, p=0.5, size=(num_samples, sample_size))  # n = 10, p = 0.5\n",
    "    elif dist_name == \"Poisson\":\n",
    "        samples = poisson.rvs(mu=5, size=(num_samples, sample_size))       # mu = 5\n",
    "    else:\n",
    "        raise ValueError(\"Onbekende verdelingstype\")\n",
    "    \n",
    "    # Bereken het gemiddelde van elke steekproef\n",
    "    sample_means = samples.mean(axis=1)\n",
    "    return sample_means\n",
    "\n",
    "# Plotfunctie voor de centrale limietstelling\n",
    "def plot_clt(dist_name, aantal_steekproeven, steekproefgrootte):\n",
    "    # Genereer steekproefgemiddelden\n",
    "    steekproefgemiddelden = generate_sample_means(dist_name, steekproefgrootte, aantal_steekproeven)\n",
    "    \n",
    "    # Bereken gemiddelde en standaarddeviatie voor de normale benadering\n",
    "    mean = np.mean(steekproefgemiddelden)\n",
    "    std = np.std(steekproefgemiddelden)\n",
    "    \n",
    "    # Maak histogram van de steekproefgemiddelden\n",
    "    plt.figure(figsize=(10, 6))\n",
    "    plt.hist(steekproefgemiddelden, bins=int(np.sqrt(aantal_steekproeven)), density=True, alpha=0.6, color='blue', label=\"Steekproefgemiddelden\")\n",
    "    \n",
    "    # Plot de normale benadering\n",
    "    x = np.linspace(mean - 4*std, mean + 4*std, 1000)\n",
    "    plt.plot(x, norm.pdf(x, mean, std), 'r-', lw=2, label=f'Normale benadering ($\\mu={mean:.2f}$, $\\sigma={std:.2f}$)')\n",
    "    \n",
    "    # Plotinstellingen\n",
    "    plt.title(f'Centrale limietstelling: gemiddelde van onafhankelijke {dist_name} verdeelde kansvariabelen ($n={steekproefgrootte}$)')\n",
    "    plt.xlabel('Gemiddelde van Steekproef')\n",
    "    plt.ylabel('Frequentiedichtheid')\n",
    "    plt.legend()\n",
    "    plt.grid(True)\n",
    "    plt.show()\n",
    "\n",
    "# Interactieve widgets\n",
    "interact(\n",
    "    plot_clt,\n",
    "    dist_name=Dropdown(\n",
    "        options=[\"normale\", \"uniforme\", r\"exponentieel\", r\"chi-kwadraat\", \"Student's t\", \"binomiaal\", \"Poisson\"], \n",
    "        value=\"normale\", description=\"Verdeling:\"\n",
    "    ),\n",
    "    aantal_steekproeven=IntSlider(value=1, min=10, max=10_000, step=10, description=\"Aantal steekproeven:\"),\n",
    "    steekproefgrootte=IntSlider(value=1, min=1, max=10_000, step=1, description='Steekproefgrootte:')\n",
    ")"
   ]
  },
  {
   "cell_type": "code",
   "execution_count": 55,
   "id": "d482b246-c513-4263-bf5e-899198e32695",
   "metadata": {
    "tags": []
   },
   "outputs": [
    {
     "data": {
      "application/vnd.jupyter.widget-view+json": {
       "model_id": "38109a60fb3149b6829867ea6b9f4abc",
       "version_major": 2,
       "version_minor": 0
      },
      "text/plain": [
       "interactive(children=(Dropdown(description='Verdeling:', options=('Normaal', 'Uniform', 'Exponentieel', 'Chi-k…"
      ]
     },
     "metadata": {},
     "output_type": "display_data"
    },
    {
     "data": {
      "text/plain": [
       "<function __main__.interactive_clt(dist_name)>"
      ]
     },
     "execution_count": 55,
     "metadata": {},
     "output_type": "execute_result"
    }
   ],
   "source": [
    "import numpy as np\n",
    "import matplotlib.pyplot as plt\n",
    "from scipy.stats import norm, uniform, expon, chi2, t, binom, poisson\n",
    "from ipywidgets import interact, FloatSlider, IntSlider, Dropdown, VBox, fixed\n",
    "\n",
    "# Functie om steekproefgemiddelden te genereren op basis van de geselecteerde verdeling\n",
    "def generate_sample_means(dist_name, aantal_steekproeven, steekproefgrootte, **params):\n",
    "    if dist_name == \"Normaal\":\n",
    "        samples = norm.rvs(loc=params[\"mu\"], scale=params[\"sigma\"], size=(aantal_steekproeven, steekproefgrootte))\n",
    "    elif dist_name == \"Uniform\":\n",
    "        samples = uniform.rvs(loc=params[\"a\"], scale=params[\"b\"] - params[\"a\"], size=(aantal_steekproeven, steekproefgrootte))\n",
    "    elif dist_name == \"Exponentieel\":\n",
    "        samples = expon.rvs(scale=params[\"scale\"], size=(aantal_steekproeven, steekproefgrootte))\n",
    "    elif dist_name == \"Chi-kwadraat\":\n",
    "        samples = chi2.rvs(df=params[\"df\"], size=(aantal_steekproeven, steekproefgrootte))\n",
    "    elif dist_name == \"t-verdeling\":\n",
    "        samples = t.rvs(df=params[\"df\"], size=(aantal_steekproeven, steekproefgrootte))\n",
    "    elif dist_name == \"Binomiaal\":\n",
    "        samples = binom.rvs(n=params[\"n\"], p=params[\"p\"], size=(aantal_steekproeven, steekproefgrootte))\n",
    "    elif dist_name == \"Poisson\":\n",
    "        samples = poisson.rvs(mu=params[\"mu\"], size=(aantal_steekproeven, steekproefgrootte))\n",
    "    else:\n",
    "        raise ValueError(\"Onbekende verdelingstype\")\n",
    "    \n",
    "    # Bereken het gemiddelde van elke steekproef\n",
    "    sample_means = samples.mean(axis=1)\n",
    "    return sample_means\n",
    "\n",
    "# Plotfunctie voor de centrale limietstelling\n",
    "def plot_clt(dist_name, steekproefgrootte, aantal_steekproeven, **params):\n",
    "    # Genereer steekproefgemiddelden\n",
    "    steekproefgemiddelden = generate_sample_means(dist_name, aantal_steekproeven, steekproefgrootte, **params)\n",
    "    \n",
    "    # Bereken gemiddelde en standaarddeviatie voor de normale benadering\n",
    "    mean = np.mean(steekproefgemiddelden)\n",
    "    std = np.std(steekproefgemiddelden)\n",
    "    \n",
    "    # Maak histogram van de steekproefgemiddelden\n",
    "    plt.figure(figsize=(10, 6))\n",
    "    plt.hist(steekproefgemiddelden, bins=np.sqrt(aantal_steekproeven), density=True, alpha=0.6, color='blue', label=\"Steekproefgemiddelden\")\n",
    "    \n",
    "    # Plot de normale benadering\n",
    "    x = np.linspace(mean - 4*std, mean + 4*std, 1000)\n",
    "    plt.plot(x, norm.pdf(x, mean, std), 'r-', lw=2, label=f'Normale benadering ($\\mu={mean:.2f}$, $\\sigma={std:.2f}$)')\n",
    "    \n",
    "    # Plotinstellingen\n",
    "    plt.title(f'Centrale Limietstelling: {dist_name} Verdeling, Steekproefgrootte = {steekproefgrootte}')\n",
    "    plt.xlabel('Steekproefgemiddelde')\n",
    "    plt.ylabel('Frequentiedichtheid')\n",
    "    plt.legend()\n",
    "    plt.grid(True)\n",
    "    plt.xlim(-3, 3)  # Houd de x-aslimieten constant\n",
    "    plt.show()\n",
    "\n",
    "# Widget-configuraties voor elke verdeling\n",
    "def interactive_clt(dist_name):\n",
    "    if dist_name == \"Normaal\":\n",
    "        params = {\n",
    "            \"mu\": FloatSlider(value=0, min=-5, max=5, step=0.1, description=\"$\\mu$ (Gemiddelde)\"),\n",
    "            \"sigma\": FloatSlider(value=1, min=0.1, max=5, step=0.1, description=\"$\\sigma$ (Standaardafwijking)\")\n",
    "        }\n",
    "    elif dist_name == \"Uniform\":\n",
    "        params = {\n",
    "            \"a\": FloatSlider(value=0, min=-10, max=0, step=0.1, description=\"$a$\"),\n",
    "            \"b\": FloatSlider(value=1, min=0.1, max=10, step=0.1, description=\"$b$\")\n",
    "        }\n",
    "    elif dist_name == \"Exponentieel\":\n",
    "        params = {\n",
    "            \"scale\": FloatSlider(value=1, min=0.1, max=5, step=0.1, description=\"Schaal ($1/\\mu$)\")\n",
    "        }\n",
    "    elif dist_name == \"Chi-kwadraat\":\n",
    "        params = {\n",
    "            \"df\": IntSlider(value=2, min=1, max=10, step=1, description=\"Vrijheidsgraden (df)\")\n",
    "        }\n",
    "    elif dist_name == \"t-verdeling\":\n",
    "        params = {\n",
    "            \"df\": IntSlider(value=5, min=1, max=30, step=1, description=\"Vrijheidsgraden (df)\")\n",
    "        }\n",
    "    elif dist_name == \"Binomiaal\":\n",
    "        params = {\n",
    "            \"n\": IntSlider(value=10, min=1, max=100, step=1, description=r\"$n$ (Aantal pogingen)\"),\n",
    "            \"p\": FloatSlider(value=0.5, min=0, max=1, step=0.01, description=r\"$p$ (Kans)\")\n",
    "        }\n",
    "    elif dist_name == \"Poisson\":\n",
    "        params = {\n",
    "            \"mu\": FloatSlider(value=5, min=0.1, max=20, step=0.1, description=r\"$\\mu$ (Gemiddelde)\")\n",
    "        }\n",
    "    else:\n",
    "        params = {}\n",
    "    \n",
    "    # Maak de interactieve plot\n",
    "    interact(plot_clt, dist_name=fixed(dist_name), steekproefgrootte=IntSlider(value=5, min=1, max=100, step=1, description='Steekproefgrootte:'), **params)\n",
    "\n",
    "# Hoofdinteractief menu om een verdelingstype te kiezen\n",
    "interact(interactive_clt, dist_name=Dropdown(\n",
    "    options=[\"Normaal\", \"Uniform\", \"Exponentieel\", \"Chi-kwadraat\", \"t-verdeling\", \"Binomiaal\", \"Poisson\"], \n",
    "    value=\"Normaal\", description=\"Verdeling:\"\n",
    "))"
   ]
  },
  {
   "cell_type": "code",
   "execution_count": null,
   "id": "e8579a6a-6a93-4208-9915-f89db4a40ba2",
   "metadata": {},
   "outputs": [],
   "source": []
  }
 ],
 "metadata": {
  "kernelspec": {
   "display_name": "Python [conda env:statistiek]",
   "language": "python",
   "name": "conda-env-statistiek-py"
  },
  "language_info": {
   "codemirror_mode": {
    "name": "ipython",
    "version": 3
   },
   "file_extension": ".py",
   "mimetype": "text/x-python",
   "name": "python",
   "nbconvert_exporter": "python",
   "pygments_lexer": "ipython3",
   "version": "3.11.9"
  }
 },
 "nbformat": 4,
 "nbformat_minor": 5
}
