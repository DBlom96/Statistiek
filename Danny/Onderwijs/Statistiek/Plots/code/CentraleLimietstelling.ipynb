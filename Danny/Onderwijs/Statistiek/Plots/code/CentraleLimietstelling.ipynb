{
 "cells": [
  {
   "cell_type": "code",
   "execution_count": 3,
   "id": "8a442a15-64a9-4df2-bd3e-447a5d7d00dc",
   "metadata": {
    "tags": []
   },
   "outputs": [
    {
     "data": {
      "application/vnd.jupyter.widget-view+json": {
       "model_id": "7bd0371823a846659334f2ed5eb78e65",
       "version_major": 2,
       "version_minor": 0
      },
      "text/plain": [
       "interactive(children=(IntSlider(value=1, description='num_dice', max=15, min=1), IntSlider(value=10000, descri…"
      ]
     },
     "metadata": {},
     "output_type": "display_data"
    }
   ],
   "source": [
    "import numpy as np\n",
    "import matplotlib.pyplot as plt\n",
    "from ipywidgets import interact, IntSlider\n",
    "\n",
    "def roll_dice(num_dice=1, num_rolls=10000):\n",
    "    \"\"\"\n",
    "    Simulates rolling multiple dice and plots the histogram of their sums.\n",
    "    \n",
    "    Parameters:\n",
    "    - num_dice: Number of dice to roll in each experiment.\n",
    "    - num_rolls: Number of times the dice are rolled.\n",
    "    \"\"\"\n",
    "    # Roll the dice and sum their outcomes\n",
    "    dice_rolls = np.sum(np.random.randint(1, 7, size=(num_rolls, num_dice)), axis=1)\n",
    "    \n",
    "    # Plot the histogram of the sums of dice\n",
    "    plt.figure(figsize=(10, 6))\n",
    "    plt.hist(dice_rolls, bins=30, density=True, alpha=0.6, color='b')\n",
    "    \n",
    "    # Plot the normal distribution curve for comparison\n",
    "    mean = np.mean(dice_rolls)\n",
    "    std_dev = np.std(dice_rolls)\n",
    "    x = np.linspace(min(dice_rolls), max(dice_rolls), 1000)\n",
    "    plt.plot(x, (1/(std_dev * np.sqrt(2 * np.pi))) * np.exp(-0.5 * ((x - mean) / std_dev) ** 2), \n",
    "             color='red', lw=2, label=\"Normal Distribution\")\n",
    "    \n",
    "    plt.title(f\"Distribution of the Sum of {num_dice} Dice Rolls (N={num_rolls})\")\n",
    "    plt.xlabel(\"Sum of Dice Rolls\")\n",
    "    plt.ylabel(\"Probability Density\")\n",
    "    plt.legend()\n",
    "    plt.grid(True)\n",
    "    plt.show()\n",
    "\n",
    "# Create an interactive plot with a slider for number of dice\n",
    "interact(roll_dice, num_dice=IntSlider(min=1, max=15, step=1, value=1));\n"
   ]
  },
  {
   "cell_type": "code",
   "execution_count": null,
   "id": "3a055d66-259b-464a-ae7d-49b97db5c9cf",
   "metadata": {},
   "outputs": [],
   "source": []
  }
 ],
 "metadata": {
  "kernelspec": {
   "display_name": "Python [conda env:statistiek]",
   "language": "python",
   "name": "conda-env-statistiek-py"
  },
  "language_info": {
   "codemirror_mode": {
    "name": "ipython",
    "version": 3
   },
   "file_extension": ".py",
   "mimetype": "text/x-python",
   "name": "python",
   "nbconvert_exporter": "python",
   "pygments_lexer": "ipython3",
   "version": "3.11.9"
  }
 },
 "nbformat": 4,
 "nbformat_minor": 5
}
