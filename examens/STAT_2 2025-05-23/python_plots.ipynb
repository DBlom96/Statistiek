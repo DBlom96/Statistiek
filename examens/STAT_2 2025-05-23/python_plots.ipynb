{
 "cells": [
  {
   "cell_type": "code",
   "execution_count": 3,
   "id": "e5481e29",
   "metadata": {},
   "outputs": [],
   "source": [
    "import matplotlib.pyplot as plt\n",
    "import numpy as np\n",
    "from scipy.stats import norm, expon, t, chi2, uniform, binom, poisson\n",
    "from sklearn.linear_model import LinearRegression\n",
    "from datetime import datetime\n",
    "\n",
    "plt.rcParams.update(plt.rcParamsDefault)\n",
    "# plt.style.use('../Styles/stylesheet.mplstyle') "
   ]
  },
  {
   "cell_type": "code",
   "execution_count": 4,
   "id": "84cc3d75",
   "metadata": {},
   "outputs": [],
   "source": [
    "# Lineaire regressie"
   ]
  },
  {
   "cell_type": "markdown",
   "id": "101c2a68",
   "metadata": {},
   "source": [
    "# Lineaire regressie"
   ]
  },
  {
   "cell_type": "code",
   "execution_count": 10,
   "id": "c8974fc9",
   "metadata": {},
   "outputs": [
    {
     "name": "stdout",
     "output_type": "stream",
     "text": [
      "\\begin{center}\n",
      "    \\begin{tabular}{c|cccccccccc}\n",
      "        \\toprule\n",
      "            \\textbf{$X$} & $30$ & $50$ & $70$ & $90$ & $110$ & $130$ & $150$ & $170$ & $190$ & $210$ \\\\\n",
      "            \\textbf{$Y$} & $3.9$ & $3.5$ & $2.7$ & $6.1$ & $4.4$ & $5.6$ & $6.3$ & $4.4$ & $8.1$ & $7.5$ \\\\\n",
      "        \\bottomrule\n",
      "    \\end{tabular}\n",
      "\\end{center}\n"
     ]
    },
    {
     "data": {
      "image/png": "[encoded data removed]",
      "text/plain": [
       "<Figure size 640x480 with 1 Axes>"
      ]
     },
     "metadata": {},
     "output_type": "display_data"
    },
    {
     "name": "stdout",
     "output_type": "stream",
     "text": [
      "\\begin{center}\n",
      "\\begin{tabular}{ccccc}\n",
      "\\toprule\n",
      "$X$ & $Y$ & $XY$ & $X^2$ & $Y^2$ \\\\\n",
      "\\midrule\n",
      "$30$ & $3.9$ & $117.0$ & $900$ & $15.209999999999999$ \\\\\n",
      "$50$ & $3.5$ & $175.0$ & $2500$ & $12.25$ \\\\\n",
      "$70$ & $2.7$ & $189.0$ & $4900$ & $7.290000000000001$ \\\\\n",
      "$90$ & $6.1$ & $549.0$ & $8100$ & $37.209999999999994$ \\\\\n",
      "$110$ & $4.4$ & $484.00000000000006$ & $12100$ & $19.360000000000003$ \\\\\n",
      "$130$ & $5.6$ & $728.0$ & $16900$ & $31.359999999999996$ \\\\\n",
      "$150$ & $6.3$ & $945.0$ & $22500$ & $39.69$ \\\\\n",
      "$170$ & $4.4$ & $748.0000000000001$ & $28900$ & $19.360000000000003$ \\\\\n",
      "$190$ & $8.1$ & $1539.0$ & $36100$ & $65.61$ \\\\\n",
      "$210$ & $7.5$ & $1575.0$ & $44100$ & $56.25$ \\\\\n",
      "\\midrule\n",
      "$\\overline{X} = 120.0000$ & $\\overline{Y} = 5.2500$ & $\\overline{XY} = 704.9000$ & $\\overline{X^2} = 17700.0000$ & $\\overline{Y^2} = 30.3590$ \\\\\n",
      "\\bottomrule\n",
      "\\end{tabular}\n",
      "\n",
      "\\begin{align*}\n",
      "r &= \\frac{\\overline{X \\cdot Y} - \\overline{X} \\cdot \\overline{Y}}{\\sqrt{(\\overline{X}^2 - \\overline{X^2}) \\cdot (\\overline{Y}^2 - \\overline{Y^2})}} \\\\\n",
      "&= \\frac{704.900 - 120.000 \\cdot 5.250}{\\sqrt{(120.000^2 - 17700.000) \\cdot (5.250^2 - 30.359)}} \\\\\n",
      "&= \\frac{74.900}{96.065} \\\\\n",
      "&\\approx 0.7797.\n",
      "\\end{align*}\n"
     ]
    }
   ],
   "source": [
    "def plot_linear_regression(X, Y):\n",
    "    # Convert lists to numpy arrays\n",
    "\n",
    "    X = np.array(X).reshape(-1, 1)\n",
    "    Y = np.array(Y)\n",
    "\n",
    "    # Calculate linear regression parameters\n",
    "    model = LinearRegression()\n",
    "    model.fit(X, Y)\n",
    "    m = model.coef_[0] # slope\n",
    "    b = model.intercept_ # intercept\n",
    "\n",
    "    # Get the predictions\n",
    "    Y_pred = model.predict(X)\n",
    "\n",
    "    # Create scatter plot\n",
    "    plt.scatter(X, Y, color='blue')\n",
    "    \n",
    "    # Plot regression line\n",
    "    if b > 0:\n",
    "        plt.plot(X, m * X + b, color='red', label=f\"Regressielijn: Y={m:.4f}X+{b:.4f}\")\n",
    "    else:\n",
    "        plt.plot(X, m * X + b, color='red', label=f\"Regressielijn: Y={m:.4f}X{b:.4f}\")\n",
    "\n",
    "    # Label axes and add title\n",
    "    plt.xlabel('$X$')\n",
    "    plt.ylabel('$Y$')\n",
    "    plt.title('Spreidingsdiagram')\n",
    "    plt.legend()\n",
    "    \n",
    "    # Show plot\n",
    "    plt.show()\n",
    "\n",
    "def generate_latex_table(X, Y):\n",
    "    # Start building the LaTeX table\n",
    "    latex_code = (\n",
    "        \"\\\\begin{center}\\n\"\n",
    "        \"    \\\\begin{tabular}{c|cccccccccc}\\n\"\n",
    "        \"        \\\\toprule\\n\"\n",
    "        \"            \\\\textbf{$X$} & $\" + \"$ & $\".join(map(str, X)) + \"$ \\\\\\\\\\n\"\n",
    "        \"            \\\\textbf{$Y$} & $\" + \"$ & $\".join(map(str, Y)) + \"$ \\\\\\\\\\n\"\n",
    "        \"        \\\\bottomrule\\n\"\n",
    "        \"    \\\\end{tabular}\\n\"\n",
    "        \"\\\\end{center}\"\n",
    "    )\n",
    "    \n",
    "    return latex_code\n",
    "\n",
    "\n",
    "def generate_latex_table_regression(X, Y):\n",
    "    X = np.array(X)\n",
    "    Y = np.array(Y)\n",
    "    \n",
    "    # Compute XY, X^2, and Y^2\n",
    "    XY = X * Y\n",
    "    X_squared = X ** 2\n",
    "    Y_squared = Y ** 2\n",
    "    \n",
    "    # Start building the LaTeX table\n",
    "    latex_code = (\n",
    "        \"\\\\begin{center}\\n\"\n",
    "        \"\\\\begin{tabular}{ccccc}\\n\"\n",
    "        \"\\\\toprule\\n\"\n",
    "        \"$X$ & $Y$ & $XY$ & $X^2$ & $Y^2$ \\\\\\\\\\n\"\n",
    "        \"\\\\midrule\\n\"\n",
    "    )\n",
    "    \n",
    "    # Populate table rows\n",
    "    for x, y, xy, x2, y2 in zip(X, Y, XY, X_squared, Y_squared):\n",
    "        latex_code += f\"${x}$ & ${y}$ & ${xy}$ & ${x2}$ & ${y2}$ \\\\\\\\\\n\"\n",
    "    \n",
    "    # Add final row with averages\n",
    "    # Compute averages\n",
    "    avg_X = np.mean(X)\n",
    "    avg_Y = np.mean(Y)\n",
    "    avg_XY = np.mean(XY)\n",
    "    avg_X_squared = np.mean(X_squared)\n",
    "    avg_Y_squared = np.mean(Y_squared)\n",
    "\n",
    "    latex_code += (\n",
    "        \"\\\\midrule\\n\"\n",
    "        f\"$\\\\overline{{X}} = {avg_X:.4f}$ & \"\n",
    "        f\"$\\\\overline{{Y}} = {avg_Y:.4f}$ & \"\n",
    "        f\"$\\\\overline{{XY}} = {avg_XY:.4f}$ & \"\n",
    "        f\"$\\\\overline{{X^2}} = {avg_X_squared:.4f}$ & \"\n",
    "        f\"$\\\\overline{{Y^2}} = {avg_Y_squared:.4f}$ \\\\\\\\\\n\"\n",
    "        \"\\\\bottomrule\\n\"\n",
    "        \"\\\\end{tabular}\\n\"\n",
    "    )\n",
    "\n",
    "    \n",
    "    return latex_code\n",
    "\n",
    "def pearson_correlation_latex(X, Y):\n",
    "    X = np.array(X)\n",
    "    Y = np.array(Y)\n",
    "    \n",
    "    # Compute necessary statistical values\n",
    "    avg_X = np.mean(X)\n",
    "    avg_Y = np.mean(Y)\n",
    "    avg_XY = np.mean(X * Y)\n",
    "    avg_X_squared = np.mean(X ** 2)\n",
    "    avg_Y_squared = np.mean(Y ** 2)\n",
    "    \n",
    "    # Compute Pearson correlation coefficient\n",
    "    numerator = avg_XY - (avg_X * avg_Y)\n",
    "    denominator = np.sqrt((avg_X**2 - avg_X_squared) * (avg_Y**2 - avg_Y_squared))\n",
    "    r = numerator / denominator\n",
    "    \n",
    "    # Generate LaTeX output\n",
    "    latex_code = (\n",
    "        \"\\\\begin{align*}\\n\"\n",
    "        \"r &= \\\\frac{\\\\overline{X \\\\cdot Y} - \\\\overline{X} \\\\cdot \\\\overline{Y}}{\\\\sqrt{(\\\\overline{X}^2 - \\\\overline{X^2}) \\\\cdot (\\\\overline{Y}^2 - \\\\overline{Y^2})}} \\\\\\\\\\n\"\n",
    "        f\"&= \\\\frac{{{avg_XY:.3f} - {avg_X:.3f} \\\\cdot {avg_Y:.3f}}}{{\\\\sqrt{{({avg_X:.3f}^2 - {avg_X_squared:.3f}) \\\\cdot ({avg_Y:.3f}^{2} - {avg_Y_squared:.3f})}}}} \\\\\\\\\\n\"\n",
    "        f\"&= \\\\frac{{{numerator:.3f}}}{{{denominator:.3f}}} \\\\\\\\\\n\"\n",
    "        f\"&\\\\approx {r:.4f}.\\n\"\n",
    "        \"\\\\end{align*}\"\n",
    "    )\n",
    "    \n",
    "    return latex_code\n",
    "\n",
    "\n",
    "X = [30, 50, 70, 90, 110, 130, 150, 170, 190, 210]\n",
    "Y = [3.9, 3.5, 2.7, 6.1, 4.4, 5.6, 6.3, 4.4, 8.1, 7.5]\n",
    "# generate latex table for the question itself\n",
    "latex_table = generate_latex_table(X, Y)\n",
    "print(latex_table)\n",
    "\n",
    "plot_linear_regression(X, Y)\n",
    "regression_table = generate_latex_table_regression(X, Y)\n",
    "print(regression_table)\n",
    "pearson = pearson_correlation_latex(X, Y)\n",
    "print(pearson)"
   ]
  },
  {
   "cell_type": "markdown",
   "id": "05f70b1b",
   "metadata": {},
   "source": []
  },
  {
   "cell_type": "markdown",
   "id": "eba9e6ff",
   "metadata": {},
   "source": [
    "# CHIKWADRAAT"
   ]
  },
  {
   "cell_type": "markdown",
   "id": "30e8804a",
   "metadata": {},
   "source": []
  },
  {
   "cell_type": "code",
   "execution_count": 6,
   "id": "26d856f2",
   "metadata": {},
   "outputs": [
    {
     "name": "stdout",
     "output_type": "stream",
     "text": [
      "[39.35016206 87.64844317 97.61395109 72.47501574 40.35766287 17.97850954\n",
      "  9.57625553]\n",
      "Chi-kwadraat toetsingsgrootheid: 4.1245\n",
      "P-waarde: 0.6598\n"
     ]
    }
   ],
   "source": [
    "import numpy as np\n",
    "from scipy.stats import chisquare, poisson\n",
    "\n",
    "# Geobserveerde waarden\n",
    "observed = np.array([40, 80, 100, 85, 35, 15, 10])\n",
    "\n",
    "# Verwachte waarden\n",
    "expected = np.array([365 * poisson.pmf(k, 813/365) for k in range(6)] + [365 * (1 - poisson.cdf(5, 813/365))])\n",
    "print(expected)\n",
    "\n",
    "# Chi-kwadraat toetsingsgrootheid berekenen\n",
    "chi2_stat, p_value = chisquare(observed, expected)\n",
    "\n",
    "print(f\"Chi-kwadraat toetsingsgrootheid: {chi2_stat:.4f}\")\n",
    "print(f\"P-waarde: {p_value:.4f}\")\n"
   ]
  },
  {
   "cell_type": "code",
   "execution_count": 1,
   "id": "9988a9c0",
   "metadata": {},
   "outputs": [
    {
     "name": "stdout",
     "output_type": "stream",
     "text": [
      "95%-Betrouwbaarheidsinterval: (370, 410) ms\n",
      "Hypothesetoets: T-statistiek = -3.18, Verwerp H0? Ja\n",
      "Waarde voor recordbreking bij 5% kans: 2501 ms\n"
     ]
    }
   ],
   "source": [
    "import numpy as np\n",
    "import scipy.stats as stats\n",
    "\n",
    "def betrouwbaarheidsinterval(sample_mean, sample_std, n, confidence=0.95):\n",
    "    \"\"\"Bereken het betrouwbaarheidsinterval voor een gegeven dataset.\"\"\"\n",
    "    t_waarde = stats.t.ppf((1 + confidence) / 2, df=n-1)\n",
    "    marge_fout = t_waarde * (sample_std / np.sqrt(n))\n",
    "    return round(sample_mean - marge_fout), round(sample_mean + marge_fout)\n",
    "\n",
    "def hypothesetoets(sample_mean, pop_mean, sample_std, n, alpha=0.02):\n",
    "    \"\"\"Voer een eenzijdige t-toets uit en geef terug of H0 verworpen moet worden.\"\"\"\n",
    "    t_stat = (sample_mean - pop_mean) / (sample_std / np.sqrt(n))\n",
    "    kritieke_t = stats.t.ppf(alpha, df=n-1)  # Eenzijdig, linkse grens\n",
    "    return t_stat < kritieke_t, t_stat\n",
    "\n",
    "def recordbreking(team_size, sample_mean, sample_std, alpha=0.05):\n",
    "    \"\"\"Bereken de waarde x waarvoor de kans op recordbreking 5% is.\"\"\"\n",
    "    team_mean = team_size * sample_mean\n",
    "    team_std = np.sqrt(team_size) * sample_std\n",
    "    kritieke_x = team_mean - stats.norm.ppf(alpha) * team_std\n",
    "    return round(kritieke_x)\n",
    "\n",
    "# Gegeven waarden\n",
    "sample_mean = 390  # ms\n",
    "sample_std = 40  # ms\n",
    "n = 18\n",
    "pop_mean = 420  # ms\n",
    "team_size = 6\n",
    "\n",
    "# Uitvoeren van de berekeningen\n",
    "bi_low, bi_high = betrouwbaarheidsinterval(sample_mean, sample_std, n)\n",
    "reject_H0, t_stat = hypothesetoets(sample_mean, pop_mean, sample_std, n)\n",
    "record_x = recordbreking(team_size, sample_mean, sample_std)\n",
    "\n",
    "# Resultaten tonen\n",
    "print(f\"95%-Betrouwbaarheidsinterval: ({bi_low}, {bi_high}) ms\")\n",
    "print(f\"Hypothesetoets: T-statistiek = {t_stat:.2f}, Verwerp H0? {'Ja' if reject_H0 else 'Nee'}\")\n",
    "print(f\"Waarde voor recordbreking bij 5% kans: {record_x} ms\")"
   ]
  },
  {
   "cell_type": "code",
   "execution_count": null,
   "id": "53c8a207",
   "metadata": {},
   "outputs": [],
   "source": []
  }
 ],
 "metadata": {
  "kernelspec": {
   "display_name": "data_sci_env",
   "language": "python",
   "name": "python3"
  },
  "language_info": {
   "codemirror_mode": {
    "name": "ipython",
    "version": 3
   },
   "file_extension": ".py",
   "mimetype": "text/x-python",
   "name": "python",
   "nbconvert_exporter": "python",
   "pygments_lexer": "ipython3",
   "version": "3.12.3"
  }
 },
 "nbformat": 4,
 "nbformat_minor": 5
}
